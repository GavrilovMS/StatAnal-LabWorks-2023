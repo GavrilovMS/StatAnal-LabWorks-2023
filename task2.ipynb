{
 "cells": [
  {
   "cell_type": "markdown",
   "metadata": {},
   "source": [
    "# Практическая работа №2: Классические методы математической статистики\n",
    "Выполнил студент гр. 1375 Гаврилов Матвей. Вариант №8"
   ]
  },
  {
   "cell_type": "markdown",
   "metadata": {},
   "source": [
    "## Цель работы\n",
    "Научится применять методы математической статистики для решения задач статистического анализа; сформировать навыки реализации методов с помощью прикладных программных пакетов."
   ]
  },
  {
   "cell_type": "markdown",
   "metadata": {},
   "source": [
    "## Основные теоретические положения\n",
    "1. Порядковые статистики и ранги\n",
    "  * Упорядоченный набор наблюдений $ X_{(1)} <$  $...$ $< X_{(n)}$ - вариационный ряд:\n",
    "    * Элементы вариационного ряда - порядковые статистики\n",
    "    * Переход от исходного набора наблюдений к порядковым статистикам необратим\n",
    "    * Для восстановления исходного набора наблюдений требуются ранги $R_1, ..., R_n $\n",
    "    * Ранг i-го наблюдения $R_i$ - его номер в вариационном ряду\n",
    "    * При наличии повторных наблюдений ранги определены неоднозначно\n",
    "\n",
    "2. Эмпирическое распределение\n",
    "  * Пусть $X_{(1)}<\\ldots<X_{(n)}$ - элементы вариационного ряда без повторений\n",
    "  * Вероятность = (#{$i:X_{i} = X^*_{(1...n)}$})/n\n",
    "  * Эмпирические распределения, построенные по исходной выборке и по соответствующему вариационному ряду, совпадают\n",
    "  * Эмпирическая функция распределения является статистикой, ее используют в качестве оценки для теоретической функции распределения\n",
    "2. Выборочные числовые характеристики\n",
    "  * Мат. ожидание: $\\overline{X}=\\frac{1}{n}\\sum_{i=1}^{n}X_{i}$\n",
    "  * Дисперсия:  $S^{2}=\\frac{1}{n}\\sum_{i=1}^{n}\\left( X_{i}-\\overline{X} \\right)^{2}=\\overline{X^{2}}-\\overline{X}^{2}$\n",
    "  * Коэф.асимметрии(скошености): $\\widehat{Skew}X=\\frac{\\left(\\frac{1}{n}\\sum_{i=1}^{n}\\left( X_{i}-\\overline{X} \\right)^{3} \\right)}{S^{3}}$\n",
    "  * Коэф.эксцесса(островершинности): $\\widehat{Kurt}X=\\frac{\\frac{1}{n}\\sum_{i=1}^{n}\\left( X_{i}-\\overline{X}^{4} \\right)}{S^{4}}-3$\n",
    "\n",
    "3. Оценка максимального правдоподобия\n",
    "  * Оценка $\\widehat{\\theta}(X)$, максимизирующая ф - ю правдоподобия $L(\\overrightarrow{X};θ)$ по $θ$ при каждом фикс. X:\n",
    "  $$L(\\overrightarrow{X};\\widehat{\\theta}(\\overrightarrow{X})) \\geqslant L(\\overrightarrow{X};\\widetilde{\\theta}(\\overrightarrow{X})), \\forall x \\in \\mathfrak{X}, \\forall \\hat{\\theta}(\\overrightarrow{X})$$\n",
    "  называется оценкой максимального правдоподобия(ОМП).\n",
    "  * Если $\\widehat{\\theta}(\\overrightarrow{X})$ - ОМП параметра $θ$, $g$ - параметрич. функция, то $g(\\widehat{\\theta})$ является ОМП для $g(\\theta)$\n",
    "\n",
    "  * Если $X_{1}, \\ldots X_{n}$ - выборка из распределения с плотностью  распределения $p_{\\theta}, \\theta \\in \\Theta $, то:\n",
    "    1. функция правдоподобия распадается на произведения:\n",
    "    $$L(\\overrightarrow{X}; \\theta)=\\prod_{i=1}^{n} p_{\\theta}\\left(x_{i}\\right)$$\n",
    "    2. Логарифм функции правдоподобия представляет:\n",
    "    $$ LL(\\overrightarrow{X}; \\theta)=\\ln L(\\overrightarrow{X}; \\theta)=\\sum_{i=1}^{n} \\ln p_{\\theta}\\left(x_{i}\\right) $$\n",
    "    3. В силу монотонности логарифма задача максимизации функции правдоподобия сводится к задаче максимизации ее логарифма по всем $\\theta \\in \\Theta$\n",
    "    $$LL(\\overrightarrow{X}; \\theta)=\\sum_{i=1}^{n} \\ln p_{\\theta}\\left(x_{i}\\right)$$\n",
    "\n",
    "    4. Если $ \\bar{\\theta}=\\left(\\theta_{1}\\right., \\ldots \\left.\\theta_{d}\\right)-$  d-мерный параметр и $p_{\\theta}$ дифференцируема по $θ$, то для нахождения максимума надо найти решения системы уравнений моментов\n",
    "    \n",
    "$$U(\\overrightarrow{X}; \\theta)=\\frac{\\partial}{\\partial \\theta _i} LL(\\overrightarrow{X} ; \\theta)=0;  i=1, \\ldots ,d$$"
   ]
  },
  {
   "cell_type": "markdown",
   "metadata": {},
   "source": [
    "5. МДС и ПДС\n",
    "  * (МДС)Достаточная статистика $T$ называется минимальной, если для любой\n",
    "   достаточной статистики $T^*$ существует функция $g$, такая что $T = g(T^*)$ с  $\\mathbb{P}_{θ} = 1$ для любой $θ$\n",
    "  * (ПДС)Достаточная статистика называется полной если \n",
    "  $$ \\mathbb{E}_{\\theta} g(T)=0, \\forall \\theta \\in \\Theta \\Rightarrow g(T)=0 $$\n",
    " с вероятностью = 1\n",
    "  * Полная достаточная статистика всегда минимальна\n",
    "  * Если МДС не является полной, то полной достаточной статистики не существует"
   ]
  },
  {
   "cell_type": "markdown",
   "metadata": {},
   "source": [
    "6. Асимптотический доверительный интервал\n",
    "  * Пусть $(\\mathfrak{X}, \\mathfrak{F},\\mathcal{P}), \\mathcal{P}=\\left\\{P_{\\theta}: 0 \\in \\Theta\\right\\}$ - статистический эксперимент.  \n",
    "  $\\mathcal{Y}$ - совокупность подмножеств множества $Θ$ опр. формы  $\\alpha \\in(0,1)$ - малое число\n",
    "  \n",
    "    Статистика $\\hat{\\Theta}: \\mathfrak{X} \\rightarrow \\mathcal{Y}$, удовл. условию $$\\mathbb{P}_{\\theta}(\\hat{\\theta} \\ni \\theta) \\geqslant 1-\\alpha$$\n",
    "    называется доверительной оценкой пар-ра $θ$ уровня доверия $1-\\alpha$\n",
    "  * Статистика $\\hat{\\Theta}: \\mathfrak{X} \\rightarrow \\mathbb{R}^{2}$ , удовл. усл\n",
    "  $$\\mathbb{P}_{\\theta}\\left(\\left[T_{1}(\\vec{X}), T_{2}(\\vec{X})\\right] \\ni \\theta\\right) \\geqslant 1-\\alpha, \\forall \\theta \\in \\Theta $$\n",
    "  называется доверительным интервалом параметра $θ$ уровня доверия $1-\\alpha$\n",
    "  * Оценка $\\hat{\\theta}(\\overrightarrow{X})$ nap-pa $\\theta$ называется состоятельной, если при каждом значении $\\theta \\in \\Theta$ для любого $\\varepsilon>0$ : $$\\lim _{n \\rightarrow \\infty} \\mathbb{P}_{\\theta}(|\\hat{\\theta}(\\overrightarrow{X})-\\theta|>\\varepsilon)=0$$\n",
    "  и сильно состоятельной, если $$\\lim _{n \\rightarrow \\infty} \\hat{\\theta}(\\overrightarrow{X})=\\theta,$$ с вероятностью  $\\mathbb{P}_{\\theta}=1$ при каждом $\\theta \\in \\Theta$\n",
    "  * Оценка $\\hat{\\theta}(\\overrightarrow{X})$ называется асимптотически нормальной, если при каждом $\\theta \\in Θ$ сущ. $\\sigma^{2}(\\theta)$ :\n",
    "  $$\\begin{aligned}\n",
    "& \\mathbb{P \\theta}_{\\theta}\\left(\\sqrt{n} \\cdot(\\hat{\\theta}(\\overrightarrow{X})-\\theta)<x\\right) \\rightarrow \\Phi\\left(x \\mid \\sigma(\\theta)\\right),  где \\\\\n",
    "& \\Phi(x)=\\int_{-\\infty}^{x} \\frac{1}{\\sqrt{2 \\pi}} \\cdot \\exp \\left(-\\frac{t^{2}}{2}\\right) d t\n",
    "\\end{aligned}\n",
    "$$\n",
    "  * Асимптотическая нормальность может быть переписана\n",
    "\n",
    "  * Методы построения:\n",
    "    1.  На базе асимптотической нормальности $\\hat{\\theta}$\n",
    "      * Ас. нормальность: $\n",
    "\\sqrt{n}(\\hat{\\theta}(\\overrightarrow{X})-\\theta) \\sim \\mathcal{N}\\left(0, \\sigma^{2}(\\theta)\\right)\n",
    "$\n",
    "       * $\\sqrt{n} \\frac{\\hat{\\theta}(\\overrightarrow{X})-\\hat{\\theta}}{\\sigma(\\hat{\\theta}(X))} \\sim \\mathcal{N}(0,1)$\n",
    "       * $x_{\\alpha}: \\Phi\\left(x_{\\alpha}\\right)=1-\\frac{\\alpha}{2}$\n",
    "       * Д.и. $\\left[\\hat{\\theta}(\\overrightarrow{X})-\\frac{x_{\\alpha} \\cdot \\sigma(\\hat{\\theta}(\\overrightarrow{X}))}{\\sqrt{n}} ; \\hat{\\theta}(\\overrightarrow{X})+\\frac{x_{\\alpha} \\cdot \\sigma(\\hat{\\theta}(\\overrightarrow{X}))}{\\sqrt{n}}\\right]\\ni \\theta$\n",
    "    2. На базе ОМП\n",
    "       * $\\hat{\\theta}(\\overrightarrow{X})$ - ОМП\n",
    "       * При выполнении опр. условий:\n",
    "       $\\sqrt{n} \\cdot(\\hat{\\theta}(\\overrightarrow{X})-\\theta) \\sim \\mathcal{N}\\left(0, \\frac{1}{I(\\theta)}\\right)$\n",
    "       * $\\sqrt{n \\cdot I(\\hat{\\theta})}(\\hat{\\theta}(\\overrightarrow{X})-\\theta) \\sim \\mathcal{N}(0,1)$\n",
    "       * $x_{\\alpha}: \\Phi\\left(x_{\\alpha}\\right)=1-\\frac{\\alpha}{2}$\n",
    "       * $\\left[\\hat{\\theta}(\\overrightarrow{X})-\\frac{x_{\\alpha}}{\\sqrt{n \\cdot I(\\hat{\\theta})}}, \\hat{\\theta}(\\overrightarrow{X})+\\frac{x_{\\alpha}}{\\sqrt{n ⋅ I(\\hat{\\theta})}}\\right] \\ni \\theta$\n",
    "      "
   ]
  },
  {
   "cell_type": "markdown",
   "metadata": {},
   "source": [
    "8. Статистическая гипотеза\n",
    "  * Пусть $(\\mathfrak{X}, \\mathfrak{F}, \\mathcal{P}),\\left\\{P_{\\theta}: \\theta \\in \\Theta\\right\\}$ - статистический эксперимент\n",
    "\n",
    "    Статистической гипотезой называется утверждение о параметре вида $$H: \\theta \\in \\Theta^{*} \\subseteq \\Theta$$\n",
    "  *  Одноточечная гипотеза $H_{0}: \\theta=\\theta^{*}$, определяющая точное значение параметра, называется простой\n",
    "    - $\\theta^{*} \\in \\Theta$ - фиксированное значение параметра\n",
    "  * Другие гипотезы называются сложными\n",
    "  * В классической постановке выдвигают:\n",
    "    - основную (или нулевую) гипотезу $H_{0}: \\theta \\in \\Theta_{0}$\n",
    "    - альтернативную гипотезу (альтернативу) $H_{A}: \\theta \\in \\Theta_{A}$ :  $\\Theta_{0} \\cap \\Theta_{A}=\\varnothing$.\n",
    "    - Задача исследователя - по результатам наблюдений сделать выбор между основной гипотезой и альтернативой\n",
    "    - С точки зрения модели удобно предполагать, что $Θ_0\\cupΘ_A = Θ$, но довольно часто данное условие ослабляют, предполагая наличие расстояния между dist$(Θ_0,Θ_A) > 0,$ чтобы обеспечить различимость $H_0$ и $H_A$.\n",
    "    - Иногда выдвигают несколько взаимоисключающих гипотез, из которых требуется выбрать одну\n",
    "9. Проверка согласия статистических гипотез\n",
    "  * Данные представляют собой однородный набор наблюдений(типичной моделью является выборка)\n",
    "  * Гипотеза согласия ставится в терминах распределения отдельных наблюдений\n",
    "    - простая: о согласии с некоторым фиксированным распределением\n",
    "    - сложная: о принадлежности некоторому множеству распределений\n",
    "10. Статистический критерий\n",
    "  * Статистическим критерием (тестом) называется статистика $\\phi: \\mathfrak{X} \\rightarrow[0,1]$, определяющая вероятность отвергнуть основную гипотезу по результатам наблюдений.\n",
    "    - Критерий - правило, согласно которому принимается или отвергается основная гипотеза\n",
    "      1. доверительная область: $\\{X \\in \\mathfrak{X}: \\phi(X)=0\\}$ - основная гипотеза принимается\n",
    "      2. критическая область: $\\{X \\in \\mathfrak{X}: \\phi(X)=1\\}$ - основная гипотеза отвергается\n",
    "      3. область сомнений: $\\{X \\in \\mathfrak{X}: \\phi(X) \\in(0,1)\\}$ - решение принимается в результате проведения испытания с вероятностью отвержения основная гипотезы $\\phi(X)$ и вероятностью ее принятия $1-\\phi(X)$.\n",
    "  * Характеристики статистического критерия\n",
    "    - Статистический критерий определяет вероятности ошибок I и II рода\n",
    "      - $P_{\\theta}=\\mathbb{E}_{\\theta} \\phi(X), \\theta \\in \\Theta_{0}$ - вероятность ошибки I рода\n",
    "      - $P_{\\theta}=1-\\mathbb{E}_{\\theta} \\phi(X), \\theta \\in \\Theta_{A^{-}}$ - вероятность ошибки II рода\n",
    "    - Мощность статистического критерия $ \\phi $  \n",
    "  $b_{\\phi}(\\theta)=1-P_{\\theta}=\\mathbb{E}_{\\theta} \\phi(X), \\theta \\in \\Theta_{A}$\n",
    "    - Уровень значимости статистического критерия $\\phi$\n",
    "      * Классический подход Неймана-Пирсона заключается в том, чтобы ограничить ошибку I рода малым наперед заданным числом $\\alpha$\n",
    "      * Значение $\\alpha$, ограничивающее вероятность ошибки I рода называется уровнем значимости критерия.\n",
    "    - Функция $b_{\\phi}(\\theta)=\\mathbb{E}_{\\theta} \\phi(X)$ определяет\n",
    "      - вероятность ошибки I рода при $\\theta \\in \\Theta_{0}$\n",
    "      - мощность критерия при $\\theta \\in \\Theta_{A}$\n",
    "  * Качество статистического критерия при фиксированном уровне значимости определяется его мощностью\n",
    "      - Критерий $\\phi$ называется равномерно наиболее мощным, если $b_ϕ(θ)\\geq b_{ϕ^*}(θ)$ для любого $\\theta \\in Θ_A$"
   ]
  },
  {
   "cell_type": "markdown",
   "metadata": {},
   "source": [
    "11. Наиболее мощный критерий\n",
    "  * Т: Пусть семейство $\\mathcal{P}$ имеет монотонное отношение правдоподобия относительно $θ_{*}$ и некоторой статистики $T$ (для определенности считаем, что $LR^{*}$ возрастает). Тогда существует равномерно наиболее мощный критерий проверки гипотезы $H_{0}$ при альтернативе $H_{A}$, который имеет вид $$\n",
    "\\phi(x)=\\left\\{\\begin{array}{l}\n",
    "1, \\text { если } T(X)>c ; \\\\\n",
    "p, \\text { если } T(X)=c ; \\\\\n",
    "0, \\text { если } T(X)<c,\n",
    "\\end{array}\\right.\n",
    "$$\n",
    "  где константы $c$ и $p \\in[0,1)$ выбираются из уравнения $$\n",
    "\\sup_{\\theta \\leq \\theta_{*}}\\mathbb{E}_{\\theta} \\phi(X)=\\mathbb{E}_{\\theta_{\\star}} \\phi(X)=P_{\\theta_{*}}(T(X)>c)+p P_{\\theta_{*}}(T(X)=c)=\\alpha\n",
    "$$\n",
    "  * Построенный в теореме критерий - единственный наиболее мощный $T$ - измеримый с точностью до множеств нулевой вероятности\n",
    "  * Наблюдаемое значение статистики правдоподобия -  $LR(\\overrightarrow{X},\\theta_{1},\\theta_{0})$; вероятность получить наблюдаемое значение статистики правдоподобия - $c$\n",
    "  * $LR(\\overrightarrow{X},\\theta_{1},\\theta_{0})\\gt c$, то принимаем основную гипотезу\n",
    "  * $LR(\\overrightarrow{X},\\theta_{1},\\theta_{0})\\lt c$, то отвергаем основную гипотезу"
   ]
  },
  {
   "cell_type": "markdown",
   "metadata": {},
   "source": [
    "12. Теорема Колмогорова\n",
    "  * Статистика критерия Колмогорова: $D_{n}=\\sup _{x \\in \\mathbb{R}}\\left|F_{n}(x)-F_{0}(x)\\right|$, где\n",
    "  $F_{n}(x)=\\frac{1}{n} \\sum_{i=1}^{n} 1_{\\left\\{x_{i}<x\\right\\}}$ - выборочная функция распределения\n",
    "  * Теорема Колмогорова: $\\sqrt{n} D_{n} \\Rightarrow \\mathcal{K}$ при основной гипотезе, или $$\n",
    "P_{F_{0}}\\left(\\sqrt{n} D_{n}<x\\right) \\rightarrow K(x), x \\in \\mathbb{R}\n",
    "$$\n",
    "     - $\\mathcal{K}$ - распределение Колмогорова\n",
    "     - $K(x)$ - функция распределения Колмогорова\n",
    "     - существует точное распределение статистики $D_{n}$\n",
    "     - $K_{n}$ - функция точного распределения $D_{n}$\n",
    "     - Если $D_{n} \\lt x$, то гипотезу принимаем\n",
    "\n",
    "       Если $D_{n} \\gt x$, то гипотезу отвергаем\n",
    "  * Критерий Колмогорова\n",
    "     - Выбираем уровень значимости $\\alpha>0$ - малое число\n",
    "     - Критерий уровня значимости $\\alpha$\n",
    "\n",
    "  $$\\tilde{\\phi}(x)= \\begin{cases}0, & \\text { при } \\widehat{D}_{n} \\leq x_{\\alpha} \\\\ 1, & \\text { при } \\widehat{D}_{n}>x_{\\alpha}\\end{cases}$$\n",
    "  * $x_{\\alpha}: K\\left(x_{\\alpha} / \\sqrt{n}\\right)=1-\\alpha$ для асимптотического критерия\n",
    "\n",
    "     $x_{\\alpha}: K_{n}\\left(x_{\\alpha}\\right)=1-\\alpha$ для точного критерия\n",
    "  * Асимптотический критерий можно применять при $n \\geq 5$"
   ]
  },
  {
   "cell_type": "markdown",
   "metadata": {},
   "source": [
    "## Постановка задачи\n",
    "Для полученных в результате эксперимента наборов данных выполнить статистическую обработку. Полученные результаты содержательно проинтерпретировать."
   ]
  },
  {
   "cell_type": "markdown",
   "metadata": {},
   "source": [
    "## Выполнение работы\n",
    "1. В результате эксперимента были получены данные, приведенные в таблице 1.\n",
    "\n",
    "Таблица 1\n",
    "\n",
    "$ \\alpha_1 = 0.20;  a = 0.00;  b = 3.41;  \\lambda_0 = 3.00; \\lambda_1 = 2.00 $\n",
    "\n",
    "2 1 1 2 0 2 1 2 3 3 1 4 1 1 1 1 2 1 4 1 3 3 0 3 3 4 2 2 5 2 1 2 1 2 1 2 4 1 1 3 2 3 1 3 0 2 2 2 3 2"
   ]
  },
  {
   "cell_type": "code",
   "execution_count": 1,
   "metadata": {},
   "outputs": [],
   "source": [
    "alpha_1 = 0.2\n",
    "a = 0\n",
    "b = 3.41\n",
    "lambda_0 = 3.00\n",
    "lambda_1 = 2.00\n",
    "data = [2, 1, 1, 2, 0, 2, 1, 2, 3, 3, 1, 4, 1, 1, 1, 1, 2, 1, 4, 1, 3, 3, 0, 3, 3, 4, 2, 2, 5, 2, 1, 2, 1, 2, 1, 2, 4, 1, 1, 3, 2, 3, 1, 3, 0, 2, 2, 2, 3, 2]"
   ]
  },
  {
   "cell_type": "markdown",
   "metadata": {},
   "source": [
    "a) Построить вариационный ряд, эмпирическую функцию распределения и гистограмму частот."
   ]
  },
  {
   "cell_type": "code",
   "execution_count": 2,
   "metadata": {},
   "outputs": [
    {
     "name": "stdout",
     "output_type": "stream",
     "text": [
      "[0, 0, 0, 1, 1, 1, 1, 1, 1, 1, 1, 1, 1, 1, 1, 1, 1, 1, 1, 2, 2, 2, 2, 2, 2, 2, 2, 2, 2, 2, 2, 2, 2, 2, 2, 3, 3, 3, 3, 3, 3, 3, 3, 3, 3, 4, 4, 4, 4, 5]\n"
     ]
    }
   ],
   "source": [
    "#Вариационный ряд\n",
    "sorted_data = data.copy()\n",
    "sorted_data.sort()\n",
    "print(sorted_data)"
   ]
  },
  {
   "cell_type": "code",
   "execution_count": 3,
   "metadata": {},
   "outputs": [
    {
     "data": {
      "image/png": "[encoded data removed]",
      "text/plain": [
       "<Figure size 640x480 with 1 Axes>"
      ]
     },
     "metadata": {},
     "output_type": "display_data"
    }
   ],
   "source": [
    "#Эмпирическая функция распределения\n",
    "\n",
    "#Таблица эмпирического распределения\n",
    "table = [[], []]\n",
    "for x in sorted_data:\n",
    "    if x not in table[0]:\n",
    "        table[0].append(x)\n",
    "        table[1].append(0)\n",
    "    table[1][table[0].index(x)] += 1/len(sorted_data)\n",
    "\n",
    "l = len(table[0])\n",
    "for i in range(1, l):\n",
    "    table[1][i] += table[1][i-1]\n",
    "\n",
    "\n",
    "#График\n",
    "import matplotlib.pyplot as plt\n",
    "\n",
    "plt.figure()\n",
    "plt.title(\"Эмпирическая функция распределения\")\n",
    "\n",
    "x = [table[0][0]-1, table[0][0]]\n",
    "y = [0, 0]\n",
    "plt.plot(x, y, color='blue')\n",
    "for i in range(l-1):\n",
    "    x = [table[0][i], table[0][i+1]]\n",
    "    y = [table[1][i], table[1][i]]\n",
    "    plt.plot(x, y, color='blue')\n",
    "    plt.plot(table[0][i], table[1][i], 'o', mec = 'blue', mfc = 'white')\n",
    "x = [table[0][l-1], table[0][l-1]+1]\n",
    "y = [table[1][l-1], table[1][l-1]]\n",
    "plt.plot(x, y, color='blue')\n",
    "plt.plot(table[0][l-1], table[1][l-1], 'o', mec = 'blue', mfc = 'white')\n",
    "plt.show()\n"
   ]
  },
  {
   "cell_type": "code",
   "execution_count": 4,
   "metadata": {},
   "outputs": [
    {
     "data": {
      "image/png": "[encoded data removed]",
      "text/plain": [
       "<Figure size 640x480 with 1 Axes>"
      ]
     },
     "metadata": {},
     "output_type": "display_data"
    }
   ],
   "source": [
    "#Гистограмма частот\n",
    "plt.figure()\n",
    "plt.title(\"Гистограмма частот\")\n",
    "plt.hist(sorted_data, density=True, bins=table[0]+[table[0][len(table[0])-1]+1], edgecolor = 'black')\n",
    "plt.show()"
   ]
  },
  {
   "cell_type": "markdown",
   "metadata": {},
   "source": [
    "b) Вычислить выборочные аналоги следующих числовых характеристик: математического ожидания, дисперсии, СКО, медианы, асимметрии, эксцесса, вероятности $\\mathbb{P}(X \\in [a, b])$"
   ]
  },
  {
   "cell_type": "code",
   "execution_count": 5,
   "metadata": {},
   "outputs": [
    {
     "name": "stdout",
     "output_type": "stream",
     "text": [
      "Выборочное среднее: 1.98\n",
      "Выборочная дисперсия:  1.26\n",
      "Выборочное СКО:  1.12\n",
      "Медиана:  1\n",
      "Коэффициент асимметрии: 0.46\n",
      "Коэффициент эксцесса: -0.21\n",
      "P(a <= X <= b):  0.9\n"
     ]
    }
   ],
   "source": [
    "#Математическое ожидание\n",
    "M = sum(data)/len(data)\n",
    "print(\"Выборочное среднее:\", round(M, 2))\n",
    "\n",
    "#Дисперсия \n",
    "data_sqr = data.copy()\n",
    "for i in range(len(data_sqr)):\n",
    "    data_sqr[i] = data_sqr[i]**2\n",
    "M_sqr = sum(data_sqr)/len(data_sqr)\n",
    "s_2 = M_sqr - M**2\n",
    "print(\"Выборочная дисперсия: \", round(s_2, 2))\n",
    "\n",
    "#СКО\n",
    "s = s_2**(1/2)\n",
    "print(\"Выборочное СКО: \", round(s, 2))\n",
    "\n",
    "#Медиана\n",
    "if len(sorted_data) // 2 == 0:\n",
    "    print(\"Медиана: \", [sorted_data[l//2], sorted_data[l//2+1],])\n",
    "else:\n",
    "    print(\"Медиана: \", sorted_data[l//2+1])\n",
    "\n",
    "#Коэффициент асимметрии\n",
    "Skew = 0\n",
    "for i in range(len(sorted_data)):\n",
    "    Skew += ((sorted_data[i] - M)**3) / (s**3)\n",
    "Skew /= len(sorted_data)\n",
    "print(\"Коэффициент асимметрии:\", round(Skew,2))\n",
    "\n",
    "#Коэффициент эксцесса\n",
    "Kurt = 0\n",
    "for i in range(len(sorted_data)):\n",
    "    Kurt += ((sorted_data[i] - M)**4) / (s**4)\n",
    "Kurt /= len(sorted_data)\n",
    "Kurt -= 3\n",
    "print(\"Коэффициент эксцесса:\", round(Kurt, 2))\n",
    "\n",
    "#P(a <= x <= b)\n",
    "def F(x): #P(X < x)\n",
    "    res = 0\n",
    "    for X in sorted_data:\n",
    "        if X < x:\n",
    "            res += 1\n",
    "    res /= len(sorted_data)\n",
    "    return res\n",
    "def F_(x): #P(X <= x)\n",
    "    res = 0\n",
    "    for X in sorted_data:\n",
    "        if X <= x:\n",
    "            res += 1\n",
    "    res /= len(sorted_data)\n",
    "    return res\n",
    "def P(a, b): #P(a <= x <= b)\n",
    "    return round(F_(b) - F(a), 2)\n",
    "\n",
    "print(\"P(a <= X <= b): \", P(a, b))"
   ]
  },
  {
   "cell_type": "markdown",
   "metadata": {},
   "source": [
    "c)В предположении, что исходные наблюдения являются выборкой из распределения Пуассона, построить оценку максимального правдоподобия параметра $\\lambda$ и соответствующую оценку по методу моментов. Найти смещение оценок.\n",
    "\n",
    "ОМП:\n",
    "\n",
    "$ P_\\lambda(X=k) = \\frac{\\lambda^k}{k!} \\cdot \\exp(-\\lambda) $\n",
    "\n",
    "$ L(\\overrightarrow{X}; \\theta) = \\prod_{i=1}^{n} \\frac{\\lambda^{X_i}}{X_i!} \\cdot \\exp(-\\lambda) = \\lambda^{\\sum_{i=1}^{n} X_i} \\cdot \\prod_{i=1}^{n} \\frac{1}{X_i} \\cdot \\exp(-n \\lambda)$\n",
    "\n",
    "$ LL(\\overrightarrow{X}; \\theta) = \\sum_{i=1}^n X_i \\cdot \\ln(\\lambda) + \\ln(\\prod_{i=1}^{n} \\frac{1}{X_i}) - n \\cdot \\lambda$\n",
    "\n",
    "$ \\frac{\\partial LL(\\overrightarrow{X};\\theta)}{\\partial \\lambda} = \\frac{\\sum_{i=1}^n X_i}{\\lambda} - n = 0$\n",
    "\n",
    "$ \\lambda=\\frac{1}{n}\\cdot \\sum_{i=1}^{n}X_{i} = \\overline{X} $\n",
    "\n",
    "$ \\widehat{\\theta}=\\widehat{\\lambda}=\\overline{X} $\n",
    "\n",
    "$\\mathbb{E}_{\\theta}\\widehat{\\theta} = \\mathbb{E}_{\\theta}\\overline{X} = \\mathbb{E}_{\\theta}\\frac{1}{n}\\sum_{i=1}^{n}X_i = \\frac{1}{n} \\cdot \\normalsize n \\cdot \\lambda = \\lambda \\Rightarrow \\widehat{\\theta}$ - несмещённая оценка.\n",
    "\n",
    "ОММ:\n",
    "\n",
    "$\\mathbb{E}X_1 = \\lambda$ - математическое ожидание\n",
    "\n",
    "$\\mathrm{M_1} = \\overline{X}$ - выборочное среднее\n",
    "\n",
    "$\\widetilde{\\theta} = \\widetilde{\\lambda} = \\overline{X}$\n",
    "\n",
    "$\\mathbb{E}_{\\theta}\\widetilde{\\theta} = \\mathbb{E}_{\\theta}\\overline{X} = \\mathbb{E}_{\\theta}\\frac{1}{n}\\sum_{i=1}^{n}X_i = \\frac{1}{n} \\cdot  n \\cdot \\lambda = \\lambda \\Rightarrow$ несмещённая оценка."
   ]
  },
  {
   "cell_type": "code",
   "execution_count": 6,
   "metadata": {},
   "outputs": [
    {
     "name": "stdout",
     "output_type": "stream",
     "text": [
      "ОМП:  1.98\n"
     ]
    }
   ],
   "source": [
    "#ОМП\n",
    "print(\"ОМП: \", M)"
   ]
  },
  {
   "cell_type": "markdown",
   "metadata": {},
   "source": [
    "d) Построить асимптотический доверительный интервал уровня значимости $\\alpha_1$ для параметра $\\lambda$ на базе оценки максимального правдоподобия.\n",
    "\n",
    "* Информация Фишера:\n",
    " \n",
    "$I_n(\\theta)=-\\mathbb{E}\\left( \\frac{\\partial^{2} LL}{\\partial \\lambda^{2}} \\right)=-\\mathbb{E}\\left( -\\frac{\\sum_{i=1}^{n}X_{i}}{\\lambda^{2}} \\right)=\\frac{n}{\\lambda^{2}}$\n",
    "\n",
    "$I(\\theta)= \\frac{1}{\\lambda^{2}}$\n",
    "\n",
    "$\\sqrt{n\\cdot I\\left(  \\widehat{\\theta}(\\overrightarrow{X})\\right)}\\left( \\widehat{\\theta}(\\overrightarrow{X})-\\theta \\right)\\sim N(0,1)$\n",
    "\n",
    "* $X_{\\alpha}$: \n",
    "\n",
    "$\\mathrm{Ф}(X_{\\alpha})=1-\\frac{\\alpha_{1}}{2}=1-\\frac{0.20}{2}=0.9 \\Rightarrow X_{0.2}=1.28$\n",
    "\n",
    "* А.Д.И. \n",
    "\n",
    "$\\left[ \\overline{X}-\\frac{X_{0.2}}{\\sqrt{n\\cdot \\frac{1}{\\overline{X}^2}}}; \\overline{X}+\\frac{X_{0.2}}{\\sqrt{n \\cdot \\frac{1}{\\overline{X}^2}}}\\right] \\ni \\lambda $\n"
   ]
  },
  {
   "cell_type": "code",
   "execution_count": 7,
   "metadata": {},
   "outputs": [
    {
     "name": "stdout",
     "output_type": "stream",
     "text": [
      "А.Д.И. уровня доверия  0.2  : [ 1.62 ; 2.34 ]\n"
     ]
    }
   ],
   "source": [
    "#Асимптотический доверительный интервал:\n",
    "\n",
    "dif = round(1.28 / ((len(data) * (1 / (M**2)))**(1/2)), 2)\n",
    "print('А.Д.И. уровня доверия ',alpha_1, ' : [', M - dif, ';', M + dif, ']')"
   ]
  },
  {
   "cell_type": "markdown",
   "metadata": {},
   "source": [
    "e) Используя гистограмму частот, построить критерий значимости $\\mathcal{X^2}$ проверки простой гипотезы согласия с распределением Пуассона с параметром $\\lambda_0$. Проверить гипотезу на уровень значимости $\\alpha_1$. Вычислить наибольшее значение уровня значимости, на котором ещё нет оснований отвергнуть данную гипотезу.\n",
    "\n",
    "$\\lambda_0 = 3.00$\n",
    "\n",
    "$\\alpha_1 = 0.20$\n",
    "\n",
    "$ p_i = \\sum_{k\\in I_{i}}\\frac{\\lambda_0^{k_i}}{k_i!} \\cdot \\exp(-\\lambda_0) $"
   ]
  },
  {
   "cell_type": "code",
   "execution_count": 8,
   "metadata": {},
   "outputs": [
    {
     "name": "stdout",
     "output_type": "stream",
     "text": [
      "[0, 1, 2, 3, 4, 5]\n",
      "[3, 16, 16, 10, 4, 1]\n",
      "[[0, 1], [2], [3], [4, 5]]\n",
      "[19, 16, 10, 5]\n",
      "[0.2, 0.22, 0.22, 0.27]\n",
      "[10.0, 11.0, 11.0, 13.5]\n",
      "[81.0, 25.0, 1.0, 72.25]\n",
      "[8.1, 2.27, 0.09, 5.35]\n",
      "15.81\n"
     ]
    }
   ],
   "source": [
    "import numpy as np\n",
    "import math\n",
    "\n",
    "#Группировка\n",
    "table = [[], []]\n",
    "for x in sorted_data:\n",
    "    if x not in table[0]:\n",
    "        table[0].append(x)\n",
    "        table[1].append(0)\n",
    "    table[1][table[0].index(x)] += 1\n",
    "print(table[0])\n",
    "print(table[1])\n",
    "gr_table = [[[0,1], [2], [3], [4,5]],[19,16,10,5]]\n",
    "print(gr_table[0])\n",
    "print(gr_table[1])\n",
    "\n",
    "def p(x):\n",
    "    return ((lambda_0**x)/(math.factorial(x)))*np.exp(-lambda_0)\n",
    "\n",
    "#Гипотетические вероятности\n",
    "p_arr = []\n",
    "for i in range(len(gr_table[0])):\n",
    "    temp_p = 0\n",
    "    for j in range(len(gr_table[0][i])):\n",
    "        temp_p += p(gr_table[0][i][j])\n",
    "    p_arr.append(round(temp_p, 2))\n",
    "print(p_arr)\n",
    "\n",
    "#Ожидаемые частоты\n",
    "n_p = p_arr.copy()\n",
    "for i in range(len(p_arr)):\n",
    "    n_p[i] *= len(data)\n",
    "    n_p[i] = round(n_p[i], 2)\n",
    "print(n_p)\n",
    "\n",
    "res = p_arr.copy()\n",
    "for i in range(len(p_arr)):\n",
    "    res[i] = (gr_table[1][i] - n_p[i])**2\n",
    "    res[i] = round(res[i], 2)\n",
    "\n",
    "print(res)\n",
    "for i in range(len(p_arr)):\n",
    "    res[i] /= n_p[i]\n",
    "    res[i] = round(res[i], 2)\n",
    "\n",
    "print(res)\n",
    "print(round(sum(res),2))"
   ]
  },
  {
   "cell_type": "markdown",
   "metadata": {},
   "source": [
    "| $I_i$  | $n_i$ | $p_i$ | $np_i$ | $(n_i - np_i)^2$ | $\\frac{(n_i - np_i)^2}{np_i}$ |\n",
    "|--------|-------|-------|--------|------------------|-------------------------------|\n",
    "| [0,1]  | 19    | 0.2   | 10.0   | 81.0             | 8.1                           |\n",
    "| [2]    | 16    | 0.22  | 11.0   | 25.0             | 2.27                          |\n",
    "| [3]    | 10    | 0.22  | 11.0   | 1.0              | 0.09                          |\n",
    "| [4, 5] | 5     | 0.27  | 13.5   | 72.25            | 5.35                          |\n",
    "\n",
    "Критерий $\\mathcal{X}^2: \\mathcal{X}^2 = \\sum_{i=1}^{4}\\frac{(n_i - np_i)^2}{np_i} = 15.81$\n",
    "\n",
    "$\\mathcal{X}^2_{N-1,\\alpha_1} = \\mathcal{X}^2_{3,0.2} \\simeq 4.642$\n",
    "\n",
    "$\\mathcal{X}^{2} >  \\mathcal{X}^2_{3,0.2} \\Rightarrow$ по критерию Пирсона мы отвергаем гипотезу\n",
    "\n",
    "Наибольшее значение уровня значимости, на котором ещё нет оснований отвергнуть данную гипотезу: $<0.01$"
   ]
  },
  {
   "cell_type": "markdown",
   "metadata": {},
   "source": [
    "f) Построить критерий значимости  $\\mathcal{X}^2$ проверки сложной гипотезы согласия с распределением Пуассона. Проверить гипотезу по уровню значимости $\\alpha_1 $.Вычислить наибольшее значение уровня значимости, на котором ещё нет оснований отвергнуть данную гипотезу.\n",
    "\n",
    "\n",
    "$\\overline{X} = 1.98$\n",
    "\n",
    "$\\alpha_1 = 0.20$\n",
    "\n",
    "$ p_i = \\sum_{k\\in I_{i}}\\frac{\\overline{X}^{k_i}}{k_i!} \\cdot \\exp(-\\overline{X}) $"
   ]
  },
  {
   "cell_type": "code",
   "execution_count": 9,
   "metadata": {},
   "outputs": [
    {
     "name": "stdout",
     "output_type": "stream",
     "text": [
      "[0, 1, 2, 3, 4, 5]\n",
      "[3, 16, 16, 10, 4, 1]\n",
      "[[0, 1], [2], [3], [4, 5]]\n",
      "[19, 16, 10, 5]\n",
      "[0.41, 0.27, 0.18, 0.12]\n",
      "[20.5, 13.5, 9.0, 6.0]\n",
      "[2.25, 6.25, 1.0, 1.0]\n",
      "[0.11, 0.46, 0.11, 0.17]\n",
      "0.85\n"
     ]
    }
   ],
   "source": [
    "#Группировка\n",
    "table = [[], []]\n",
    "for x in sorted_data:\n",
    "    if x not in table[0]:\n",
    "        table[0].append(x)\n",
    "        table[1].append(0)\n",
    "    table[1][table[0].index(x)] += 1\n",
    "print(table[0])\n",
    "print(table[1])\n",
    "gr_table = [[[0,1], [2], [3], [4,5]],[19,16,10,5]]\n",
    "print(gr_table[0])\n",
    "print(gr_table[1])\n",
    "\n",
    "def p(x):\n",
    "    return ((M**x)/(math.factorial(x)))*np.exp(-M)\n",
    "\n",
    "#Гипотетические вероятности\n",
    "p_arr = []\n",
    "for i in range(len(gr_table[0])):\n",
    "    temp_p = 0\n",
    "    for j in range(len(gr_table[0][i])):\n",
    "        temp_p += p(gr_table[0][i][j])\n",
    "    p_arr.append(round(temp_p, 2))\n",
    "print(p_arr)\n",
    "\n",
    "#Ожидаемые частоты\n",
    "n_p = p_arr.copy()\n",
    "for i in range(len(p_arr)):\n",
    "    n_p[i] *= len(data)\n",
    "    n_p[i] = round(n_p[i], 2)\n",
    "print(n_p)\n",
    "\n",
    "res = p_arr.copy()\n",
    "for i in range(len(p_arr)):\n",
    "    res[i] = (gr_table[1][i] - n_p[i])**2\n",
    "    res[i] = round(res[i], 2)\n",
    "\n",
    "print(res)\n",
    "for i in range(len(p_arr)):\n",
    "    res[i] /= n_p[i]\n",
    "    res[i] = round(res[i], 2)\n",
    "\n",
    "print(res)\n",
    "print(round(sum(res),2))"
   ]
  },
  {
   "cell_type": "markdown",
   "metadata": {},
   "source": [
    "| $I_i$  | $n_i$ | $p_i$ | $np_i$ | $(n_i - np_i)^2$ | $\\frac{(n_i - np_i)^2}{np_i}$ |\n",
    "|--------|-------|-------|--------|------------------|-------------------------------|\n",
    "| [0,1]  | 19    | 0.41  | 20.5   | 2.25             | 0.11                          |\n",
    "| [2]    | 16    | 0.27  | 13.5   | 6.25             | 0.46                          |\n",
    "| [3]    | 10    | 0.18  | 9.0    | 1.0              | 0.11                          |\n",
    "| [4, 5] | 5     | 0.12  | 6.0    | 1.0              | 0.17                          |\n",
    "\n",
    "Критерий $\\mathcal{X}^2: \\mathcal{X}^2 = \\sum_{i=1}^{4}\\frac{(n_i - np_i)^2}{np_i} = 0.85$\n",
    "\n",
    "$\\mathcal{X}^2_{N-1,\\alpha_1} = \\mathcal{X}^2_{3,0.2}=\\simeq 4.642$\n",
    "\n",
    "$\\mathcal{X}^{2} < \\mathcal{X}^2_{3,0.2} \\Rightarrow$ по критерию Пирсона мы подтверждаем гипотезу\n",
    "\n",
    "Наибольшее значение уровня значимости, на котором ещё нет оснований отвергнуть данную гипотезу: 0.8"
   ]
  },
  {
   "cell_type": "markdown",
   "metadata": {},
   "source": [
    "g) Построить наиболее мощный критерий проверки простой гипотезы пауссоновости с параметром $\\lambda=\\lambda_0$ при альтернативе пуассоновсти с параметром $\\lambda=\\lambda_1$. Проверить гипотезу на уровне значимости $\\alpha_1$. Что получится, если поменять местами основную и альтернативную гипотезы?\n",
    "\n",
    "$ \\lambda_0 = 3.00; \\lambda_1 = 2.00 $\n",
    "\n",
    "$H_{0}: \\theta = \\lambda_0$\n",
    "\n",
    "$H_{A}: \\theta = \\lambda_1$\n",
    "\n",
    "$LR(\\overrightarrow{X},\\lambda_{1},\\lambda_{0}) = \\frac{L\\left( \\overrightarrow{X},\\lambda_{1} \\right)}{L\\left( \\overrightarrow{X},\\lambda_{0} \\right)}= \\frac{\\lambda_{1}^{\\sum_{i=1}^{n}X_{i}}\\cdot exp(-n\\cdot \\lambda_{1})}{\\lambda_{0}^{\\sum_{i=1}^{n}X_{i}}\\cdot exp(-n\\cdot \\lambda_{0})}$\n",
    "\n",
    "В силу монотонности статистики $LR(\\overrightarrow{X})$ относительно МДС\n",
    "\n",
    "$LR(\\overrightarrow{X},\\lambda_{0},\\lambda_{1}) > c \\Leftrightarrow \\overline{X} < c^* $\n",
    "\n",
    "\n",
    "$ \\phi(x) =\\left\\{\\begin{array}{l} 1, \\overline{X} < c^* \\\\ p, \\overline{X} = c^* \\\\ 0, \\overline{X} > c^*\\\\ \\end{array}\\right.$\n",
    "\n",
    "$\\sqrt{n} \\frac{\\overline{X} - \\mathbb{E}x}{\\sqrt{\\mathbb{D}}} \\sim \\mathcal{N}(0, 1)$ \n",
    "\n",
    "$\\sqrt{n} \\frac{\\overline{X} - \\lambda_0}{\\sqrt{\\lambda_0}}\\sim \\mathcal{N}(0, 1)$, при $H_0$\n",
    "\n",
    "$\\Phi\\left(\\sqrt{n} \\frac{\\overline{X} - \\lambda_0}{\\sqrt{\\lambda_0}} \\geq \\sqrt{n} \\frac{c^* - \\lambda_0}{\\sqrt{\\lambda_0}}\\right) =1 - \\Phi\\left(\\sqrt{n} \\frac{c^* - \\lambda_0}{\\sqrt{\\lambda_0}}\\right) = \\alpha_1$\n",
    "\n",
    "$x_{\\alpha} : \\Phi(x_{\\alpha}) = 1 - \\alpha_1 = 0.8 \\Rightarrow x_{\\alpha} = 0.84$\n",
    "\n",
    "$c^* = \\frac{x_{\\alpha} \\sqrt{\\lambda_0}}{\\sqrt{n}} + \\lambda_0 = 3.205$\n",
    "\n",
    "$\\overline{X} = 1.98$\n",
    "\n",
    "\n",
    "$\\overline{X} < c^* \\Rightarrow$  гипотезу принимаем.\n",
    "\n"
   ]
  },
  {
   "cell_type": "markdown",
   "metadata": {},
   "source": [
    "\n",
    "Поменяем основную и альтернативную гипотезу местами:\n",
    "\n",
    "$H_{0}: \\theta = \\lambda_1$\n",
    "\n",
    "$H_{A}: \\theta = \\lambda_0$\n",
    "\n",
    "Статистическое отношение правдоподобия:\n",
    "\n",
    "$LR(\\overrightarrow{X},\\lambda_{0},\\lambda_{1}) = \\frac{L\\left( \\overrightarrow{X},\\lambda_{0} \\right)}{L\\left( \\overrightarrow{X},\\lambda_{1} \\right)}= \\frac{\\lambda_{0}^{\\sum_{i=1}^{n}X_{i}}\\cdot exp(-n\\cdot \\lambda_{0})}{\\lambda_{1}^{\\sum_{i=1}^{n}X_{i}}\\cdot exp(-n\\cdot \\lambda_{1})}$\n",
    "\n",
    "В силу монотонности статистики $LR(\\overrightarrow{X})$ относительно МДС \n",
    "\n",
    "$LR(\\overrightarrow{X},\\lambda_{0},\\lambda_{1}) > c \\Leftrightarrow \\overline{X} < c^* $\n",
    "\n",
    "\n",
    "$ \\phi(x) =\\left\\{\\begin{array}{l} 1, \\overline{X} < c^* \\\\ p, \\overline{X} = c^* \\\\ 0, \\overline{X} >c^*\\\\ \\end{array}\\right.$\n",
    "\n",
    "по ЦПТ:\n",
    "\n",
    "$\\sqrt{n} \\frac{\\overline{X} - \\mathbb{E}x}{\\sqrt{\\mathbb{D}}} \\sim \\mathcal{N}(0, 1)$ \n",
    "\n",
    "$\\sqrt{n} \\frac{\\overline{X} - \\lambda_1}{\\sqrt{\\lambda_1}}\\sim \\mathcal{N}(0, 1)$, при $H_0$\n",
    "\n",
    "$P\\left(\\sqrt{n} \\frac{\\overline{X} - \\lambda_0}{\\sqrt{\\lambda_1}} \\geq \\sqrt{n} \\frac{c^* - \\lambda_1}{\\sqrt{\\lambda_1}}\\right) =1 - \\Phi\\left(\\sqrt{n} \\frac{c^* - \\lambda_1}{\\sqrt{\\lambda_1}}\\right) = \\alpha_1$\n",
    "\n",
    "Квантиль:\n",
    "\n",
    "$x_{\\alpha} : \\Phi(x_{\\alpha}) = 1 - \\alpha_1 = 0.8 \\Rightarrow x_{\\alpha} = 0.84$\n",
    "\n",
    "$c^* = \\frac{x_{\\alpha} \\sqrt{\\lambda_1}}{\\sqrt{n}} + \\lambda_1= 2.168$\n",
    "\n",
    "$\\overline{X} = 1.98$\n",
    "\n",
    "\n",
    "$\\overline{X} < c^* \\Rightarrow$  гипотезу принимаем."
   ]
  },
  {
   "cell_type": "markdown",
   "metadata": {},
   "source": [
    "h) В пунктах (c)-(f) заменить семейство распределений Пуассона на семейство геометрических распределений:\n",
    "$\\mathbb{P}_{\\lambda}(X=k)=\\frac{\\lambda^k}{(\\lambda+1)^{k+1}}, k\\in \\mathbb{Z_+}$\n"
   ]
  },
  {
   "cell_type": "markdown",
   "metadata": {},
   "source": [
    "h.c) ОМП, ОММ.\n",
    "\n",
    "ОМП:\n",
    "\n",
    "$P_{\\lambda}(X=k)=\\frac{\\lambda^{k}}{(\\lambda+1)^{k+1}}$\n",
    "\n",
    "$L(\\overrightarrow{X};\\theta)=\\prod_{i=1}^{n}\\frac{\\lambda^{X_{i}}}{(\\lambda+1)^{X_{i}}}=\\frac{\\lambda^{\\sum_{i=1}^{n}X_{i}}}{(\\lambda+1)^{\\sum_{i=1}^{n}X_{i}+n}}$\n",
    "\n",
    "$LL(\\overrightarrow{X};\\theta)= \\sum_{i=1}^{n}X_{i}\\cdot \\ln(\\lambda)-(\\sum_{i=1}^{n}X_{i}+n)\\ln(\\lambda+1)$\n",
    "\n",
    "$\\frac{\\partial LL(\\overrightarrow{X};\\theta)}{\\partial \\lambda} = \\frac{\\sum_{i=1}^{n}X_{i}}{\\lambda}-\\frac{\\sum_{i=1}^{50}X_{i}+n}{\\lambda+1}=0$\n",
    "\n",
    "$\\frac{\\lambda+1}{\\lambda} = \\frac{\\sum_{i=1}^n X_i + n}{{\\sum_{i=1}^n X_i}}$\n",
    "\n",
    "$\\widehat{\\theta}=\\widehat{\\lambda}=\\overline{X}$\n",
    "\n",
    "$\\mathbb{E}_{\\theta}\\widehat{\\theta} = \\mathbb{E}_{\\theta}\\overline{X} = \\mathbb{E}_{\\theta}\\frac{1}{n}\\sum_{i=1}^{n}X_i = \\frac{1}{n} \\cdot \\normalsize n \\cdot \\lambda = \\lambda \\Rightarrow \\widehat{\\theta}$ - несмещенная оценка\n"
   ]
  },
  {
   "cell_type": "markdown",
   "metadata": {},
   "source": [
    "ОММ:\n",
    "\n",
    "$\\mathbb{E}X_1 = \\lambda$ - математическое ожидание\n",
    "\n",
    "$\\mathrm{M_1} = \\overline{X}$ - выборочное среднее\n",
    "\n",
    "$\\widetilde{\\theta} = \\widetilde{\\lambda} = \\overline{X}$\n",
    "\n",
    "$\\mathbb{E}_{\\theta}\\widetilde{\\theta} = \\mathbb{E}_{\\theta}\\overline{X} = \\mathbb{E}_{\\theta}\\frac{1}{n}\\sum_{i=1}^{n}X_i = \\frac{1}{n} \\cdot  n \\cdot \\lambda = \\lambda \\Rightarrow$ несмещённая оценка."
   ]
  },
  {
   "cell_type": "code",
   "execution_count": 10,
   "metadata": {},
   "outputs": [
    {
     "name": "stdout",
     "output_type": "stream",
     "text": [
      "ОМП: 1.98\n"
     ]
    }
   ],
   "source": [
    "print(\"ОМП:\", M)"
   ]
  },
  {
   "cell_type": "markdown",
   "metadata": {},
   "source": [
    "h.d) Построить асимптотический доверительный интервал уровня значимости $\\alpha_1$ для параметра $\\lambda$ на базе оценки максимального правдоподобия.\n",
    "\n",
    "* Информация Фишера:\n",
    " \n",
    "$I_n(\\theta)=-\\mathbb{E}\\left( \\frac{\\partial^{2} LL}{\\partial \\lambda^{2}} \\right)=-\\mathbb{E}\\left( -\\frac{\\sum_{i=1}^{n}X_{i}}{\\lambda^{2}}+\\frac{\\sum_{i=1}^{n}X_{i}+n}{(\\lambda +1)^{2}} \\right)=\\frac{n}{\\lambda^{2}}-\\mathbb{E}\\left( \\frac{\\sum_{i=1}^{n}X_{i}+n}{(\\lambda+1)^{2}} \\right) =\\frac{n}{\\lambda^{2}}-\\frac{n}{(\\lambda+1)^{2}}-\\frac{n}{(\\lambda+1)^{2}}=\\frac{n(\\lambda^{2}+1)}{(\\lambda+1)^{2}\\cdot \\lambda^{2}}$\n",
    "\n",
    "$I(\\theta)= \\frac{(\\lambda^{2}+1)}{(\\lambda+1)^{2}\\cdot \\lambda^{2}}$\n",
    "\n",
    "$\\sqrt{n\\cdot I\\left(  \\widehat{\\theta}(\\overrightarrow{X})\\right)}\\left( \\widehat{\\theta}(\\overrightarrow{X})-\\theta \\right)\\sim N(0,1)$\n",
    "\n",
    "* $X_{\\alpha}$: \n",
    "\n",
    "$\\mathrm{Ф}(X_{\\alpha})=1-\\frac{\\alpha_{1}}{2}=1-\\frac{0.20}{2}=0.9 \\Rightarrow X_{0.2}=1.28$\n",
    "\n",
    "* А.Д.И. \n",
    "\n",
    "$\\left[ \\overline{X}-\\frac{X_{0.2}}{\\sqrt{n\\cdot \\frac{(\\overline{X}^{2}+1)}{(\\overline{X}+1)^{2}\\cdot \\overline{X}^{2}}}}; \\overline{X}+\\frac{X_{0.2}}{\\sqrt{n \\cdot \\frac{(\\overline{X}^{2}+1)}{(\\overline{X}+1)^{2}\\cdot \\overline{X}^{2}}}}\\right] \\ni \\lambda $"
   ]
  },
  {
   "cell_type": "code",
   "execution_count": 11,
   "metadata": {},
   "outputs": [
    {
     "name": "stdout",
     "output_type": "stream",
     "text": [
      "А.Д.И. уровня доверия  0.2  : [ 1.5 ; 2.46 ]\n"
     ]
    }
   ],
   "source": [
    "#Асимптотический доверительный интервал:\n",
    "\n",
    "I = (M**2+1)/(((M+1)**2)*M**2)\n",
    "dif = 1.28 / ((len(data) * I)**(1/2))\n",
    "print('А.Д.И. уровня доверия ', alpha_1, ' : [', round(M - dif, 2), ';', round(M + dif, 2), ']')"
   ]
  },
  {
   "cell_type": "markdown",
   "metadata": {},
   "source": [
    "h.e) Используя гистограмму частот, построить критерий значимости $\\mathcal{X^2}$ проверки простой гипотезы согласия с геометрическим распределением а с параметром $\\lambda_0$. Проверить гипотезу на уровень значимости $\\alpha_1$. Вычислить наибольшее значение уровня значимости, на котором ещё нет оснований отвергнуть данную гипотезу.\n",
    "\n",
    "$\\lambda_0 = 3.00$\n",
    "\n",
    "$\\alpha_1 = 0.20$\n",
    "\n",
    "$ p_i = \\sum_{k_i\\in I_i}\\frac{\\lambda^{k_i}_0}{(\\lambda_0+1)^{k_i+1}} $"
   ]
  },
  {
   "cell_type": "code",
   "execution_count": 12,
   "metadata": {},
   "outputs": [
    {
     "name": "stdout",
     "output_type": "stream",
     "text": [
      "[0, 1, 2, 3, 4, 5]\n",
      "[3, 16, 16, 10, 4, 1]\n",
      "[[0, 1], [2], [3], [4, 5]]\n",
      "[19, 16, 10, 5]\n",
      "[0.44, 0.14, 0.11, 0.14]\n",
      "[22.0, 7.0, 5.5, 7.0]\n",
      "[9.0, 81.0, 20.25, 4.0]\n",
      "[0.41, 11.57, 3.68, 0.57]\n",
      "16.23\n"
     ]
    }
   ],
   "source": [
    "#Группировка\n",
    "table = [[], []]\n",
    "for x in sorted_data:\n",
    "    if x not in table[0]:\n",
    "        table[0].append(x)\n",
    "        table[1].append(0)\n",
    "    table[1][table[0].index(x)] += 1\n",
    "print(table[0])\n",
    "print(table[1])\n",
    "gr_table = [[[0,1], [2], [3], [4,5]],[19,16,10,5]]\n",
    "print(gr_table[0])\n",
    "print(gr_table[1])\n",
    "\n",
    "def p(x):\n",
    "    return ((lambda_0**x)/((lambda_0+1)**(x+1)))\n",
    "\n",
    "#Гипотетические вероятности\n",
    "p_arr = []\n",
    "for i in range(len(gr_table[0])):\n",
    "    temp_p = 0\n",
    "    for j in range(len(gr_table[0][i])):\n",
    "        temp_p += p(gr_table[0][i][j])\n",
    "    p_arr.append(round(temp_p, 2))\n",
    "print(p_arr)\n",
    "\n",
    "#Ожидаемые частоты\n",
    "n_p = p_arr.copy()\n",
    "for i in range(len(p_arr)):\n",
    "    n_p[i] *= len(data)\n",
    "    n_p[i] = round(n_p[i], 2)\n",
    "print(n_p)\n",
    "\n",
    "res = p_arr.copy()\n",
    "for i in range(len(p_arr)):\n",
    "    res[i] = (gr_table[1][i] - n_p[i])**2\n",
    "    res[i] = round(res[i], 2)\n",
    "\n",
    "print(res)\n",
    "for i in range(len(p_arr)):\n",
    "    res[i] /= n_p[i]\n",
    "    res[i] = round(res[i], 2)\n",
    "\n",
    "print(res)\n",
    "print(round(sum(res),2))"
   ]
  },
  {
   "cell_type": "markdown",
   "metadata": {},
   "source": [
    "| $I_i$  | $n_i$ | $p_i$ | $np_i$ | $(n_i - np_i)^2$ | $\\frac{(n_i - np_i)^2}{np_i}$ |\n",
    "|--------|-------|-------|--------|------------------|-------------------------------|\n",
    "| [0,1]  | 19    | 0.44  | 22.0   | 9.0              | 0.41                          |\n",
    "| [2]    | 16    | 0.14  | 7.0    | 81.0             | 11.57                         |\n",
    "| [3]    | 10    | 0.11  | 5.5    | 20.25            | 3.68                          |\n",
    "| [4, 5] | 5     | 0.14  | 7.0    | 4.0              | 0.57                          |\n",
    "\n",
    "Критерий $\\mathcal{X}^2: \\mathcal{X}^2 = \\sum_{i=1}^{4}\\frac{(n_i - np_i)^2}{np_i} = 16.23$\n",
    "\n",
    "$\\mathcal{X}^2_{N-1,\\alpha_1} = \\mathcal{X}^2_{3,0.2} \\simeq 4.642$\n",
    "\n",
    "$\\mathcal{X}^{2} >  \\mathcal{X}^2_{3,0.2} \\Rightarrow$ по критерию Пирсона мы отвергаем гипотезу\n",
    "\n",
    "Наибольшее значение уровня значимости, на котором ещё нет оснований отвергнуть данную гипотезу: $<0.01$"
   ]
  },
  {
   "cell_type": "markdown",
   "metadata": {},
   "source": [
    "h.f) Построить критерий значимости  $\\mathcal{X}^2$ проверки сложной гипотезы согласия с геометрическим распределением. Проверить гипотезу по уровню значимости $\\alpha_1 $.Вычислить наибольшее значение уровня значимости, на котором ещё нет оснований отвергнуть данную гипотезу.\n",
    "\n",
    "$\\alpha_1 = 0.20$\n",
    "\n",
    "$ p_i = \\sum_{k_i\\in I_i}\\frac{\\overline{X}^{k_i}}{(\\overline{X}+1)^{k_i+1}} $"
   ]
  },
  {
   "cell_type": "code",
   "execution_count": 13,
   "metadata": {},
   "outputs": [
    {
     "name": "stdout",
     "output_type": "stream",
     "text": [
      "[0, 1, 2, 3, 4, 5]\n",
      "[3, 16, 16, 10, 4, 1]\n",
      "[[0, 1], [2], [3], [4, 5]]\n",
      "[19, 16, 10, 5]\n",
      "[0.56, 0.15, 0.1, 0.11]\n",
      "[28.0, 7.5, 5.0, 5.5]\n",
      "[81.0, 72.25, 25.0, 0.25]\n",
      "[2.89, 9.63, 5.0, 0.05]\n",
      "17.57\n"
     ]
    }
   ],
   "source": [
    "#Группировка\n",
    "table = [[], []]\n",
    "for x in sorted_data:\n",
    "    if x not in table[0]:\n",
    "        table[0].append(x)\n",
    "        table[1].append(0)\n",
    "    table[1][table[0].index(x)] += 1\n",
    "print(table[0])\n",
    "print(table[1])\n",
    "gr_table = [[[0,1], [2], [3], [4,5]],[19,16,10,5]]\n",
    "print(gr_table[0])\n",
    "print(gr_table[1])\n",
    "\n",
    "def p(x):\n",
    "    return ((M**x)/((M+1)**(x+1)))\n",
    "\n",
    "#Гипотетические вероятности\n",
    "p_arr = []\n",
    "for i in range(len(gr_table[0])):\n",
    "    temp_p = 0\n",
    "    for j in range(len(gr_table[0][i])):\n",
    "        temp_p += p(gr_table[0][i][j])\n",
    "    p_arr.append(round(temp_p, 2))\n",
    "print(p_arr)\n",
    "\n",
    "#Ожидаемые частоты\n",
    "n_p = p_arr.copy()\n",
    "for i in range(len(p_arr)):\n",
    "    n_p[i] *= len(data)\n",
    "    n_p[i] = round(n_p[i], 2)\n",
    "print(n_p)\n",
    "\n",
    "res = p_arr.copy()\n",
    "for i in range(len(p_arr)):\n",
    "    res[i] = (gr_table[1][i] - n_p[i])**2\n",
    "    res[i] = round(res[i], 2)\n",
    "\n",
    "print(res)\n",
    "for i in range(len(p_arr)):\n",
    "    res[i] /= n_p[i]\n",
    "    res[i] = round(res[i], 2)\n",
    "\n",
    "print(res)\n",
    "print(round(sum(res),2))"
   ]
  },
  {
   "cell_type": "markdown",
   "metadata": {},
   "source": [
    "| $I_i$  | $n_i$ | $p_i$ | $np_i$ | $(n_i - np_i)^2$ | $\\frac{(n_i - np_i)^2}{np_i}$ |\n",
    "|--------|-------|-------|--------|------------------|-------------------------------|\n",
    "| [0,1]  | 19    | 0.56  | 28.0   | 81.0              | 2.89                         |\n",
    "| [2]    | 16    | 0.75  | 7.5    | 72.25             | 9.63                         |\n",
    "| [3]    | 10    | 0.1   | 5.0    | 25.0              | 5.0                          |\n",
    "| [4, 5] | 5     | 0.11  | 5.5    | 0.25              | 0.05                         |\n",
    "\n",
    "Критерий $\\mathcal{X}^2: \\mathcal{X}^2 = \\sum_{i=1}^{4}\\frac{(n_i - np_i)^2}{np_i} = 17.57$\n",
    "\n",
    "$\\mathcal{X}^2_{N-1,\\alpha_1} = \\mathcal{X}^2_{3,0.2} \\simeq 4.642$\n",
    "\n",
    "$\\mathcal{X}^{2} >  \\mathcal{X}^2_{3,0.2} \\Rightarrow$ по критерию Пирсона мы отвергаем гипотезу\n",
    "\n",
    "Наибольшее значение уровня значимости, на котором ещё нет оснований отвергнуть данную гипотезу: $<0.01$"
   ]
  },
  {
   "cell_type": "markdown",
   "metadata": {},
   "source": [
    "2. В результате эксперимента получены данные, приведенные в таблице 2.\n",
    "\n",
    "Таблица 2\n",
    "\n",
    "$\\alpha_2 = 0.01; c = 4.72; d = 5.42; h = 0.20; a_0 = 5.00; \\sigma_0 = 0.70; a_1 = 4.20; \\sigma_1 = 0.70$\n",
    "\n",
    "4.871 4.548 5.028 4.694 4.752 3.890 4.590 4.313 6.025 5.636 4.919 4.175 5.652 5.183 4.191 4.630 4.374 5.525 4.063 6.570 5.654 4.728 5.400 3.782 4.827 5.175 5.134 3.467 5.364 5.188 5.609 5.079 5.159 5.937 6.192 3.861 6.267 5.154 5.107 4.459 4.906 5.350 4.109 5.546 5.077 4.748 4.519 3.880 3.967 5.215"
   ]
  },
  {
   "cell_type": "code",
   "execution_count": 14,
   "metadata": {},
   "outputs": [],
   "source": [
    "alpha_2 = 0.01\n",
    "c = 4.72\n",
    "d = 5.42\n",
    "h = 0.20\n",
    "a_0 = 5.00\n",
    "sigma_0 = 0.70\n",
    "a_1 = 4.20\n",
    "sigma_1 = 0.70\n",
    "data = [4.871, 4.548, 5.028, 4.694, 4.752, 3.890, 4.590, 4.313, 6.025, 5.636, 4.919, 4.175, 5.652, 5.183, 4.191, 4.630, 4.374, 5.525, 4.063, 6.570, 5.654, 4.728, 5.400, 3.782, 4.827, 5.175, 5.134, 3.467, 5.364, 5.188, 5.609, 5.079, 5.159, 5.937, 6.192, 3.861, 6.267, 5.154, 5.107, 4.459, 4.906, 5.350, 4.109, 5.546, 5.077, 4.748, 4.519, 3.880, 3.967, 5.215]"
   ]
  },
  {
   "cell_type": "markdown",
   "metadata": {},
   "source": [
    "a) Построить вариационный ряд, эмпирическую функцию распределения и гистограмму и полигон частот с шагом $h$."
   ]
  },
  {
   "cell_type": "code",
   "execution_count": 15,
   "metadata": {},
   "outputs": [
    {
     "name": "stdout",
     "output_type": "stream",
     "text": [
      "[3.467, 3.782, 3.861, 3.88, 3.89, 3.967, 4.063, 4.109, 4.175, 4.191, 4.313, 4.374, 4.459, 4.519, 4.548, 4.59, 4.63, 4.694, 4.728, 4.748, 4.752, 4.827, 4.871, 4.906, 4.919, 5.028, 5.077, 5.079, 5.107, 5.134, 5.154, 5.159, 5.175, 5.183, 5.188, 5.215, 5.35, 5.364, 5.4, 5.525, 5.546, 5.609, 5.636, 5.652, 5.654, 5.937, 6.025, 6.192, 6.267, 6.57]\n"
     ]
    }
   ],
   "source": [
    "#Вариационный ряд\n",
    "sorted_data = data.copy()\n",
    "sorted_data.sort()\n",
    "print(sorted_data)\n"
   ]
  },
  {
   "cell_type": "code",
   "execution_count": 16,
   "metadata": {},
   "outputs": [
    {
     "data": {
      "image/png": "[encoded data removed]",
      "text/plain": [
       "<Figure size 640x480 with 1 Axes>"
      ]
     },
     "metadata": {},
     "output_type": "display_data"
    }
   ],
   "source": [
    "\n",
    "#Эмпирическая функция распределения\n",
    "\n",
    "#Таблица эмпирического распределения\n",
    "table = [[], []]\n",
    "for x in sorted_data:\n",
    "    if x not in table[0]:\n",
    "        table[0].append(x)\n",
    "        table[1].append(0)\n",
    "    table[1][table[0].index(x)] += 1/len(sorted_data)\n",
    "\n",
    "l = len(table[0])\n",
    "for i in range(1, l):\n",
    "    table[1][i] += table[1][i-1]\n",
    "\n",
    "\n",
    "#График\n",
    "import matplotlib.pyplot as plt\n",
    "\n",
    "plt.figure()\n",
    "plt.title(\"Эмпирическая функция распределения\")\n",
    "\n",
    "x = [table[0][0]-1, table[0][0]]\n",
    "y = [0, 0]\n",
    "plt.plot(x, y, color='blue')\n",
    "for i in range(l-1):\n",
    "    x = [table[0][i], table[0][i+1]]\n",
    "    y = [table[1][i], table[1][i]]\n",
    "    plt.plot(x, y, color='blue')\n",
    "    plt.plot(table[0][i], table[1][i], 'o', mec = 'blue', mfc = 'white')\n",
    "x = [table[0][l-1], table[0][l-1]+1]\n",
    "y = [table[1][l-1], table[1][l-1]]\n",
    "plt.plot(x, y, color='blue')\n",
    "plt.plot(table[0][l-1], table[1][l-1], 'o', mec = 'blue', mfc = 'white')\n",
    "plt.show()\n"
   ]
  },
  {
   "cell_type": "code",
   "execution_count": 33,
   "metadata": {},
   "outputs": [
    {
     "data": {
      "image/png": "[encoded data removed]",
      "text/plain": [
       "<Figure size 640x480 with 1 Axes>"
      ]
     },
     "metadata": {},
     "output_type": "display_data"
    }
   ],
   "source": [
    "plt.title(\"Гистограмма и полигон частот\")\n",
    "bins = np.arange(min(data), max(data) + h, h)\n",
    "plt.hist(sorted_data, bins=bins, edgecolor='black', density=True)\n",
    "\n",
    "x = []\n",
    "y = []\n",
    "for i in range(len(bins)-1):\n",
    "    y.append(len([x_ for x_ in sorted_data if bins[i]<= x_ < bins[i+1]])/(len(sorted_data)*h))\n",
    "    x.append((bins[i]+bins[i+1])/2)\n",
    "plt.plot(x,y, '-o', color='red')\n",
    "plt.show()"
   ]
  },
  {
   "cell_type": "markdown",
   "metadata": {},
   "source": [
    "b) Вычислить выборочные аналоги следующих числовых характеристик: математического ожидания, дисперсии, СКО, медианы, асимметрии, эксцесса, вероятности $\\mathbb{P}(X \\in [c, d])$"
   ]
  },
  {
   "cell_type": "code",
   "execution_count": 18,
   "metadata": {},
   "outputs": [
    {
     "name": "stdout",
     "output_type": "stream",
     "text": [
      "Выборочное среднее: 4.93\n",
      "Выборочная дисперсия:  0.48\n",
      "Выборочное СКО:  0.69\n",
      "Медиана:  5.077\n",
      "Коэффициент асимметрии: 0.1\n",
      "Коэффициент эксцесса: -0.41\n",
      "P(c <= X <= d):  0.42\n"
     ]
    }
   ],
   "source": [
    "#Математическое ожидание\n",
    "M = sum(data)/len(data)\n",
    "print(\"Выборочное среднее:\", round(M, 2))\n",
    "\n",
    "#Дисперсия \n",
    "data_sqr = data.copy()\n",
    "for i in range(len(data_sqr)):\n",
    "    data_sqr[i] = data_sqr[i]**2\n",
    "M_sqr = sum(data_sqr)/len(data_sqr)\n",
    "s_2 = M_sqr - M**2\n",
    "print(\"Выборочная дисперсия: \", round(s_2, 2))\n",
    "\n",
    "#СКО\n",
    "s = s_2**(1/2)\n",
    "print(\"Выборочное СКО: \", round(s, 2))\n",
    "\n",
    "#Медиана\n",
    "if len(sorted_data) // 2 == 0:\n",
    "    print(\"Медиана: \", [sorted_data[l//2], sorted_data[l//2+1],])\n",
    "else:\n",
    "    print(\"Медиана: \", sorted_data[l//2+1])\n",
    "\n",
    "#Коэффициент асимметрии\n",
    "Skew = 0\n",
    "for i in range(len(sorted_data)):\n",
    "    Skew += ((sorted_data[i] - M)**3) / (s**3)\n",
    "Skew /= len(sorted_data)\n",
    "print(\"Коэффициент асимметрии:\", round(Skew,2))\n",
    "\n",
    "#Коэффициент эксцесса\n",
    "Kurt = 0\n",
    "for i in range(len(sorted_data)):\n",
    "    Kurt += ((sorted_data[i] - M)**4) / (s**4)\n",
    "Kurt /= len(sorted_data)\n",
    "Kurt -= 3\n",
    "print(\"Коэффициент эксцесса:\", round(Kurt, 2))\n",
    "\n",
    "#P(a <= x <= b)\n",
    "def F(x): #P(X < x)\n",
    "    res = 0\n",
    "    for X in sorted_data:\n",
    "        if X < x:\n",
    "            res += 1\n",
    "    res /= len(sorted_data)\n",
    "    return res\n",
    "def F_(x): #P(X <= x)\n",
    "    res = 0\n",
    "    for X in sorted_data:\n",
    "        if X <= x:\n",
    "            res += 1\n",
    "    res /= len(sorted_data)\n",
    "    return res\n",
    "def P(a, b): #P(a <= x <= b)\n",
    "    return round(F_(b) - F(a), 2)\n",
    "\n",
    "print(\"P(c <= X <= d): \", P(c, d))"
   ]
  },
  {
   "cell_type": "markdown",
   "metadata": {},
   "source": [
    "с) В предположении, что исходные наблюдения являются выборкой из нормального роспределения построить оценку максимального правдоподобия пвраметров $(a, \\sigma_2)$ и соответствующие оценки по методу моментов. Найти смещение оценок.\n",
    "\n",
    "ОМП:\n",
    "\n",
    "$ p_{\\theta}(x)=\\frac{1}{\\sqrt{2 \\pi} \\sigma} \\cdot \\exp \\left(-\\frac{(x-a)^{2}}{2 \\sigma^{2}}\\right) $\n",
    "\n",
    "$ L(\\overrightarrow{X}; \\theta)=\\prod_{i=1}^{n} \\frac{1}{\\sqrt{2 \\pi} \\sigma} \\exp \\left(-\\frac{\\left(x_{i}-a\\right)^{2}}{2 \\sigma^{2}}\\right) =(2 \\pi)^{-\\pi / 2} \\cdot σ^{-n} \\cdot \\exp \\left(-\\frac{1}{2σ^{2}} \\sum_{i=1}^{n}\\left(x_{i}-a\\right)^{2}\\right) $\n",
    "\n",
    "$ LL(\\overrightarrow{X}; \\theta)=-\\frac{n}{2} \\cdot \\ln 2 \\pi-n \\cdot \\ln 6-\\frac{1}{2 \\sigma^{2}} \\sum_{i=1}^{n}\\left(x_{i}-a\\right)^{2} $\n",
    "\n",
    "$ \\left\\{\\begin{array}{l}\n",
    "\\frac{\\partial L L}{\\partial a}=\\frac{1}{σ^{2}}\\left(\\sum_{i=1}^{n} x_{i}-n \\cdot a\\right)=0 \\\\\n",
    "\\frac{\\partial L L}{\\partial \\sigma}=-\\frac{n}{σ}+\\frac{1}{\\sigma^{3}} \\sum_{i=1}^{n}\\left(x_{i}-a\\right)^{2}=0\n",
    "\\end{array}\\right. $\n",
    "\n",
    "$ \\left\\{\\begin{array}{l}\n",
    "\\hat{a}=\\frac{1}{n} \\sum_{i=1}^{n} X_{i}=\\overline{X} \\\\\n",
    "\\hat{σ}^{2} = \\frac{1}{n} \\sum_{i=1}^{n}\\left(X_{i}-\\hat{a}\\right)^{2} = \\hat{s}^2\n",
    "\\end{array}\\right. $\n",
    "\n",
    "$\\hat{\\theta} = (\\overline{X}, s^2)$  - ОМП\n",
    "\n",
    "$\\mathbb{E}_{\\theta}\\overline{X} = \\frac{1}{n} \\sum_{i=1}^n\\mathbb{E}_{\\theta}X_i = a$\n",
    "\n",
    "$\\mathbb{E}_{\\theta}s^2 = \\mathbb{E}_{\\theta} \\frac{1}{n} \\sum_{i=1}^{n}\\left(X_{i}-\\overline{X}\\right)^{2} = \\sigma^2$\n",
    "\n",
    "Оценка несмещенная"
   ]
  },
  {
   "cell_type": "markdown",
   "metadata": {},
   "source": [
    "ОММ:\n",
    "\n",
    "$ \\mathbb{E} X_{1}=a $\n",
    "\n",
    "$ M_{1}=\\overline{X} $\n",
    "\n",
    "$ \\mathbb{E} X_{1}^{2}=a^{2}+\\sigma^{2} $\n",
    "\n",
    "$ M_{2}=\\overline{X^{2}} $\n",
    "\n",
    "$ \\left\\{\\begin{array}{l}\n",
    "\\overline{X}=a \\\\\n",
    "\\overline{X^{2}}=a^{2}+\\sigma^{2}\n",
    "\\end{array}\\right. $\n",
    "\n",
    "$\n",
    "\\widetilde{a}= \\overline{X}\n",
    "$\n",
    "\n",
    "$ \\sigma^{2}=\\overline{X^{2}}-(\\overline{X})^{2}=s^{2} $\n",
    "\n",
    "$ \\tilde{\\theta}=\\left(\\tilde{a}, \\widetilde{\\sigma}^{2}\\right)=\\left(\\overline{X}, s^{2}\\right) $\n",
    "\n",
    "Оценка несмещенная\n"
   ]
  },
  {
   "cell_type": "markdown",
   "metadata": {},
   "source": [
    " d) Построить доверительные интервалы уровня значимости $\\alpha_2$ для параметров $(a, \\sigma^2)$\n",
    "\n",
    "$a$:\n",
    "\n",
    "$G(\\overrightarrow{X},a)=\\sqrt{n-1}\\frac{\\overline{X}-a}{s} \\sim S_{n-1}$\n",
    "\n",
    "$\\mathbb{P}_{\\theta}\\left(\\sqrt{n-1}\\frac{\\overline{X}-a}{s} \\in [x_{1\\alpha},x_{2\\alpha}]\\right)=1-\\alpha=S_{n-1}(x_{2\\alpha})-S_{n-1}(x_{1\\alpha})=S_{n-1}(x_{\\alpha})-(1-S_{n-1}(x_{\\alpha}))=2S_{n-1}(x_{\\alpha})-1=1-\\alpha$\n",
    "\n",
    "$x_{\\alpha}: S_{n-1}(x_{\\alpha})=1-\\frac{\\alpha}{2} = 1 - \\frac{0.01}{2} = 0.995$ \n",
    "\n",
    "$x_\\alpha = 2.94$\n",
    "\n",
    "$\\mathbb{P}_{\\theta}\\left(-x_{\\alpha} \\leq \\sqrt{n-1}\\frac{\\overline{X}-a}{S} \\leq x_{\\alpha}\\right)=1-\\alpha$\n",
    "\n",
    "$\\mathbb{P}_{\\theta}\\left(\\overline{X}-\\frac{x_{\\alpha}s}{\\sqrt{n-1}} \\leq a \\leq \\overline{X}+\\frac{x_{\\alpha}s}{\\sqrt{n-1}}\\right)$\n",
    "\n",
    "$\\left[\\overline{X}-\\frac{x_{\\alpha}s}{\\sqrt{n-1}}; \\overline{X}+\\frac{x_{\\alpha}s}{\\sqrt{n-1}}\\right] \\ni a$\n",
    "\n"
   ]
  },
  {
   "cell_type": "code",
   "execution_count": 19,
   "metadata": {},
   "outputs": [
    {
     "name": "stdout",
     "output_type": "stream",
     "text": [
      "Доверительный интервал уровня значимости 0.01 :[ 4.63978 ; 5.21978 ]\n"
     ]
    }
   ],
   "source": [
    "dif = round((2.94*s)/((len(data)-1)**(1/2)), 2)\n",
    "print(\"Доверительный интервал уровня значимости\", alpha_2, \":[\", M-dif, \";\", M+dif, \"]\")"
   ]
  },
  {
   "cell_type": "markdown",
   "metadata": {},
   "source": [
    "\n",
    "$\\sigma^{2}$:\n",
    "\n",
    "$G(\\overrightarrow{X},\\sigma^{2})=\\frac{nS^{2}}{\\sigma^{2}} \\sim \\chi_{n-1}^{2}$\n",
    "\n",
    "$\\mathbb{P}_{\\theta}\\left(\\frac{nS^{2}}{\\sigma^{2}} \\in [x_{1\\alpha},x_{2\\alpha}]\\right)=1-\\alpha=K_{n-1}(x_{2\\alpha})-K_{n-1}(x_{1\\alpha})=1-\\frac{\\alpha}{2}-\\frac{\\alpha}{2}=1-\\alpha$\n",
    "\n",
    "$x_{1\\alpha}: K_{n-1}(x_{1\\alpha})=\\frac{\\alpha}{2} = 0.005$\n",
    "\n",
    "$x_{1\\alpha} = 27.25 $\n",
    "\n",
    "$x_{2\\alpha}: K_{n-1}(x_{2\\alpha})=1-\\frac{\\alpha}{2} = 0.995$\n",
    "\n",
    "$x_{2\\alpha} = 78.23 $\n",
    "\n",
    "$\\mathbb{P}_{\\theta}\\left(x_{1\\alpha} \\leq \\frac{ns^{2}}{\\sigma^{2}} \\leq x_{2\\alpha}\\right)=1-\\alpha$\n",
    "\n",
    "$\\mathbb{P}_{\\theta}\\left(\\frac{ns^{2}}{x_{2\\alpha}} \\leq \\sigma^{2} \\leq \\frac{ns^{2}}{x_{1\\alpha}}\\right)$\n",
    "\n",
    "$\\left[\\frac{ns^{2}}{x_{2\\alpha}}; \\frac{ns^{2}}{x_{1\\alpha}}\\right] \\ni \\sigma^{2}$"
   ]
  },
  {
   "cell_type": "code",
   "execution_count": 20,
   "metadata": {},
   "outputs": [
    {
     "name": "stdout",
     "output_type": "stream",
     "text": [
      "Доверительный интервал уровня значимости 0.01 :[ 4.61978 ; 5.80978 ]\n"
     ]
    }
   ],
   "source": [
    "dif1 = round(len(data)*s_2/78.23,2)\n",
    "dif2 = round(len(data)*s_2/27.25, 2)\n",
    "\n",
    "print(\"Доверительный интервал уровня значимости\", alpha_2, \":[\", M-dif1, \";\", M+dif2, \"]\")"
   ]
  },
  {
   "cell_type": "markdown",
   "metadata": {},
   "source": [
    "e) С использованием теоремы Колмогорова построить критерий значимости проверки простой гипотезы согласия с нормальным распределением с параметрами $(a_{0},\\sigma_{0}^{2})$. Проверить гипотезу на уровне значимости $\\alpha_{2}$. Вычислить наибольшее значение уровня значимости, на котором еще нет оснований отвергнуть данную гипотезу."
   ]
  },
  {
   "cell_type": "code",
   "execution_count": 21,
   "metadata": {},
   "outputs": [
    {
     "name": "stdout",
     "output_type": "stream",
     "text": [
      "Мера расхождения:  0.923713359776195\n",
      "Критическая мера расхождения:  1.6276236307187293\n",
      "Гипотеза принимается\n"
     ]
    }
   ],
   "source": [
    "from scipy.stats import norm\n",
    "import numpy as np\n",
    "\n",
    "def criterion():\n",
    "    table = []\n",
    "    for x in sorted_data:\n",
    "        val = np.abs(F(x) - norm.cdf(x, a_0, sigma_0**2))\n",
    "        table.append(val)\n",
    "    D = max(table)\n",
    "    return np.sqrt(len(data))*D\n",
    "\n",
    "def critical(alpha):\n",
    "    return np.sqrt(-0.5 * np.log((alpha) / 2))\n",
    "\n",
    "cr = criterion()\n",
    "crit = critical(alpha_2)\n",
    "print(\"Мера расхождения: \", cr)\n",
    "print(\"Критическая мера расхождения: \", crit)\n",
    "\n",
    "if cr < crit:\n",
    "    print(\"Гипотеза принимается\")\n",
    "else:\n",
    "    print(\"Гипотеза опровергнута\")"
   ]
  },
  {
   "cell_type": "code",
   "execution_count": 22,
   "metadata": {},
   "outputs": [
    {
     "name": "stdout",
     "output_type": "stream",
     "text": [
      "Максимальное значение уровная значимости:  0.364\n"
     ]
    }
   ],
   "source": [
    "alpha_max = alpha_2\n",
    "while (criterion() < critical(alpha_max)):\n",
    "    alpha_max += 0.001\n",
    "print(\"Максимальное значение уровная значимости: \", round(alpha_max, 3))"
   ]
  },
  {
   "cell_type": "markdown",
   "metadata": {},
   "source": [
    "f) Используя гистограмму частот, построить критерий значимости $\\mathcal{X^2}$ проверки простой гипотезы согласия с нормальным распределением с параметрами $(a_0, \\sigma^2_0)$. Проверить гипотезу на уровень значимости $\\alpha_2$. Вычислить наибольшее значение уровня значимости, на котором ещё нет оснований отвергнуть данную гипотезу."
   ]
  },
  {
   "cell_type": "code",
   "execution_count": 23,
   "metadata": {},
   "outputs": [
    {
     "name": "stdout",
     "output_type": "stream",
     "text": [
      "I:  [[-inf, 4.5], [4.5, 5], [5, 5.5], [5.5, inf]]\n",
      "n:  [13, 12, 14, 11]\n",
      "p:  [0.15, 0.35, 0.35, 0.15]\n",
      "np:  [2.0, 4.15, 4.85, 1.69]\n",
      "[60.54, 14.81, 17.28, 51.23]\n",
      "Значение критерия:  143.8663393010101\n"
     ]
    }
   ],
   "source": [
    "#Деление на группы\n",
    "inters = [[-np.inf, 4.5], [4.5, 5], [5, 5.5], [5.5, np.inf]]\n",
    "\n",
    "\n",
    "n = []\n",
    "p = []\n",
    "n_p = []\n",
    "res = []\n",
    "\n",
    "cr = 0\n",
    "for inter in inters:\n",
    "    temp_p= norm.cdf(inter[1], a_0, sigma_0**2) - norm.cdf(inter[0], a_0, sigma_0**2)\n",
    "    temp_n= len([x for x in sorted_data if inter[0] <= x < inter[1]])\n",
    "    temp_np = temp_p*temp_n\n",
    "    temp = ((temp_n-temp_np)**2)/(temp_np)\n",
    "    cr += temp\n",
    "    n.append(round(temp_n, 2))\n",
    "    p.append(round(temp_p, 2))\n",
    "    n_p.append(round(temp_np, 2))\n",
    "    res.append(round(temp, 2))\n",
    "\n",
    "print(\"I: \",inters)\n",
    "print(\"n: \", n)\n",
    "print(\"p: \", p)\n",
    "print(\"np: \", n_p)\n",
    "print(res)\n",
    "print(\"Значение критерия: \", cr)\n"
   ]
  },
  {
   "cell_type": "markdown",
   "metadata": {},
   "source": [
    "Критерий $\\mathcal{X}^2: \\mathcal{X}^2 = \\sum_{i=1}^{4}\\frac{(n_i - np_i)^2}{np_i} = 143.87$\n",
    "\n",
    "$\\mathcal{X}^2_{N-1,\\alpha_2} = \\mathcal{X}^2_{3,0.01} \\simeq 11.345$\n",
    "\n",
    "$\\mathcal{X}^{2} >  \\mathcal{X}^2_{3,0.01} \\Rightarrow$ по критерию Пирсона мы отвергаем гипотезу\n",
    "\n",
    "Наибольшее значение уровня значимости, на котором ещё нет оснований отвергнуть данную гипотезу: $<0.01$"
   ]
  },
  {
   "cell_type": "markdown",
   "metadata": {},
   "source": [
    "g)Построить критерий значимости  $\\mathcal{X^{2}}$ проверки сложной гипотезы согласия с нормальным распределением. Проверить гипотезу по уровню значимости $\\alpha_{2}$. Вычислить наибольшее значение уровня значимости, на котором ещё нет оснований отвергнуть данную гипотезу.\n"
   ]
  },
  {
   "cell_type": "code",
   "execution_count": 24,
   "metadata": {},
   "outputs": [
    {
     "name": "stdout",
     "output_type": "stream",
     "text": [
      "I:  [[-inf, 4.5], [4.5, 5], [5, 5.5], [5.5, inf]]\n",
      "n:  [13, 12, 14, 11]\n",
      "p:  [0.18, 0.37, 0.32, 0.12]\n",
      "np:  [2.4, 4.48, 4.54, 1.29]\n",
      "Значение критерия:  152.17339442150896\n"
     ]
    }
   ],
   "source": [
    "#Деление на группы\n",
    "inters = [[-np.inf, 4.5], [4.5, 5], [5, 5.5], [5.5, np.inf]]\n",
    "\n",
    "\n",
    "n = []\n",
    "p = []\n",
    "n_p = []\n",
    "res = []\n",
    "\n",
    "cr = 0\n",
    "for inter in inters:\n",
    "    temp_p= norm.cdf(inter[1], M, s_2) - norm.cdf(inter[0], M, s_2)\n",
    "    temp_n= len([x for x in sorted_data if inter[0] <= x <= inter[1]])\n",
    "    temp_np = temp_p*temp_n\n",
    "    temp = ((temp_n-temp_np)**2)/(temp_np)\n",
    "    cr += temp\n",
    "    n.append(round(temp_n, 2))\n",
    "    p.append(round(temp_p, 2))\n",
    "    n_p.append(round(temp_np, 2))\n",
    "    res.append(round(temp, 2))\n",
    "\n",
    "print(\"I: \",inters)\n",
    "print(\"n: \", n)\n",
    "print(\"p: \", p)\n",
    "print(\"np: \", n_p)\n",
    "print(\"Значение критерия: \", cr)\n"
   ]
  },
  {
   "cell_type": "markdown",
   "metadata": {},
   "source": [
    "Критерий $\\mathcal{X}^2: \\mathcal{X}^2 = \\sum_{i=1}^{4}\\frac{(n_i - np_i)^2}{np_i} = 152.17$\n",
    "\n",
    "$\\mathcal{X}^2_{N-1,\\alpha_2} = \\mathcal{X}^2_{3,0.01} \\simeq 11.345$\n",
    "\n",
    "$\\mathcal{X}^{2} >  \\mathcal{X}^2_{3,0.01} \\Rightarrow$ по критерию Пирсона мы отвергаем гипотезу\n",
    "\n",
    "Наибольшее значение уровня значимости, на котором ещё нет оснований отвергнуть данную гипотезу: $<0.01$"
   ]
  },
  {
   "cell_type": "markdown",
   "metadata": {},
   "source": [
    "h) Построить наиболее мощный критерий проверки простой гипотезы о нормальности с параметром $(a,\\sigma^{2})=(a_{0},\\sigma_{0}^{2})$ при альтернативе нормальности с параметром $(a,\\sigma^{2})=(a_{1},\\sigma_{1}^{2})$. Проверить гипотезу на уровне значимости $\\alpha_2$. Что получится, если поменять местами основную и альтернативную гипотезы?"
   ]
  },
  {
   "cell_type": "markdown",
   "metadata": {},
   "source": [
    "$ a_0 = 5.00; \\sigma_0 = 0.70; a_1 = 4.20; \\sigma_1 = 0.70 $\n",
    "\n",
    "$ H_0: \\theta_0 = \\left( a_0, \\sigma^2_0\\right)$\n",
    "\n",
    "$H_А: \\theta_1 = \\left( a_1, \\sigma^2_1\\right)$\n",
    "\n",
    "\n",
    "$\\mathrm{L}\\left(\\vec{X}, \\vec{\\theta}\\right) = \\left(2\\pi \\right)^{-\\frac{n}{2}} \\cdot \\sigma^{-n} \\cdot \\exp{\\left(-\\frac{1}{2\\sigma^2} \\sum \\limits_{i = 1}^n (x_i - a)^2\\right)}$\n",
    "\n",
    "\n",
    "$\\mathrm{LR}\\left(\\vec{X}, \\vec{\\theta_0}, \\vec{\\theta_1}\\right) = \\frac{\\mathrm{L}\\left(\\vec{X}, \\vec{\\theta_1}\\right)}{\\mathrm{L}\\left(\\vec{X}, \\vec{\\theta_0}\\right)} = \\exp{\\left(\\frac{n}{2\\sigma^2}\\left(a_0^2 - a_1^2\\right) + \\frac{1}{\\sigma^2}\\sum \\limits_{i = 1}^n x_i \\cdot \\left(a_1 - a_0\\right)\\right)}$\n",
    "\n",
    "В силу монотонности статистики LR относительно $\\overline{X}$:\n",
    "\n",
    "$\\mathrm{LR} > c \\iff \\overline{X} < c^*$\n",
    "\n",
    "\n",
    "$ \\phi(x) =\\left\\{\\begin{array}{l} 1, \\overline{X} < c^* \\\\ p, \\overline{X} = c^* \\\\ 0, \\overline{X} > c^*\\\\ \\end{array}\\right.$\n",
    "\n",
    "$\\sqrt{n} \\frac{\\overline{X} - a_0}{\\sigma} \\sim \\mathcal{N}(0, 1)$ при $H_0$\n",
    "\n",
    "$P\\left(\\sqrt{n} \\frac{\\overline{X} - a_0}{\\sigma_0} \\geq \\sqrt{n} \\frac{c^* - a_0}{{\\sigma_0}}\\right) =1 - \\Phi\\left(\\sqrt{n} \\frac{c^* - a_0}{{\\sigma_0}}\\right) = \\alpha_2$\n",
    "\n",
    "Квантиль:\n",
    "\n",
    "$x_{\\alpha} : \\Phi(x_{\\alpha}) = 1 - \\alpha_2 = 0.99 \\Rightarrow x_{\\alpha} = 2.33$\n",
    "\n",
    "$c^* = \\frac{x_{\\alpha} \\sigma_0}{\\sqrt{n}} + a_0 = 5.27$\n",
    "\n",
    "$\\overline{X} = 4.93$\n",
    "\n",
    "\n",
    "$\\overline{X} < c^* \\Rightarrow$  гипотезу принимаем."
   ]
  },
  {
   "cell_type": "markdown",
   "metadata": {},
   "source": [
    "Поменяем нулевую и альтернативную шипотезы местами\n",
    "\n",
    "\n",
    "$H_0: \\theta_1 = \\left( a_1, \\sigma^2_1\\right)$\n",
    "\n",
    "$ H_ А: \\theta_0 = \\left( a_0, \\sigma^2_0\\right)$\n",
    "\n",
    "\n",
    "\n",
    "$\\mathrm{L}\\left(\\vec{X}, \\vec{\\theta}\\right) = \\left(2\\pi \\right)^{-\\frac{n}{2}} \\cdot \\sigma^{-n} \\cdot \\exp{\\left(-\\frac{1}{2\\sigma^2} \\sum \\limits_{i = 1}^n (x_i - a)^2\\right)}$\n",
    "\n",
    "\n",
    "$\\mathrm{LR}\\left(\\vec{X}, \\vec{\\theta_1}, \\vec{\\theta_0}\\right) = \\frac{\\mathrm{L}\\left(\\vec{X}, \\vec{\\theta_0}\\right)}{\\mathrm{L}\\left(\\vec{X}, \\vec{\\theta_1}\\right)} = \\exp{\\left(\\frac{n}{2\\sigma^2}\\left(a_1^2 - a_0^2\\right) + \\frac{1}{\\sigma^2}\\sum \\limits_{i = 1}^n x_i \\cdot \\left(a_0 - a_1\\right)\\right)}$\n",
    "\n",
    "В силу монотонности статистики LR относительно $\\overline{X}$:\n",
    "\n",
    "$\\mathrm{LR} > c \\iff \\overline{X} < c^*$\n",
    "\n",
    "\n",
    "$ \\phi(x) =\\left\\{\\begin{array}{l} 1, \\overline{X} < c^* \\\\ p, \\overline{X} = c^* \\\\ 0, \\overline{X} > c^*\\\\ \\end{array}\\right.$\n",
    "\n",
    "$\\sqrt{n} \\frac{\\overline{X} - a_1}{\\sigma} \\sim \\mathcal{N}(0, 1)$ при $H_0$\n",
    "\n",
    "$P\\left(\\sqrt{n} \\frac{\\overline{X} - a_1}{\\sigma_1} \\geq \\sqrt{n} \\frac{c^* - a_1}{{\\sigma_1}}\\right) =1 - \\Phi\\left(\\sqrt{n} \\frac{c^* - a_1}{{\\sigma_1}}\\right) = \\alpha_2$\n",
    "\n",
    "Квантиль:\n",
    "\n",
    "$x_{\\alpha} : \\Phi(x_{\\alpha}) = 1 - \\alpha_2 = 0.99 \\Rightarrow x_{\\alpha} = 2.33$\n",
    "\n",
    "$c^* = \\frac{x_{\\alpha} \\sigma_1}{\\sqrt{n}} + a_1 = 4.47$\n",
    "\n",
    "$\\overline{X} = 4.93$\n",
    "\n",
    "\n",
    "$\\overline{X} > c^* \\Rightarrow$  гипотезу отвергаем."
   ]
  },
  {
   "cell_type": "markdown",
   "metadata": {},
   "source": [
    "i) В пунктах (c)-(h) заменить семейство нормальных распределений на двухпараметрическое семейство распределений Лапласа с плотностями $p_{a,\\sigma}(x)=\\frac{1}{\\sqrt{2}\\sigma}exp\\left(-\\frac{\\sqrt{2}}{\\sigma}|x-a|\\right)$."
   ]
  },
  {
   "cell_type": "markdown",
   "metadata": {},
   "source": [
    "i) В пунктах (c) - (g) заменить семейство нормальных распределенеий на двухпараметрическое семейство распределений Лапласа с плотностями:\n",
    "$p_{a, \\sigma}(x) = \\frac{1}{\\sqrt{2}\\sigma} \\exp{\\left(-\\frac{\\sqrt{2}}{\\sigma} \\left| x - a\\right|\\right)}$\n"
   ]
  },
  {
   "cell_type": "markdown",
   "metadata": {},
   "source": [
    "\n",
    "i.c)В предположении, что исходные наблюдения являются выборкой из двухпараметрического распределения Лапласа, построить ОМП и ОММ параметров $(a,\\sigma^{2})$.Найти смещение оценки.\n",
    "\n",
    "ОМП:\n",
    "\n",
    "$\\mathrm{L}\\left(\\vec{X}, \\vec{\\theta}\\right) = 2^{-\\frac{n}{2}} \\sigma^{-n} \\exp\\left(-\\frac{\\sqrt{2}}{\\sigma} \\sum \\limits_{i = 1}^{n} |x_i - a|\\right)$\n",
    "\n",
    "$\\mathrm{LL}\\left(\\vec{X}, \\vec{\\theta}\\right) = -\\frac{n}{2}\\ln{2} - n\\ln{\\sigma} - \\frac{\\sqrt{2}}{\\sigma}\\sum \\limits_{i = 1}^{n} |x_i - a|$\n",
    "\n",
    "$\\frac{\\partial\\mathrm{LL}}{\\partial \\sigma} = -\\frac{n}{\\sigma} + \\frac{\\sqrt{2}}{\\sigma^2}\\sum \\limits_{i = 1}^{n} |x_i - \\widehat{a}| = 0$\n",
    "\n",
    "$ \\widehat{\\sigma}^2 = \\frac{2}{n^2}\\left(\\sum \\limits_{i = 1}^{n} |x_i - \\widehat{a}|\\right)^2$ \n",
    "\n",
    "$\\frac{\\partial\\mathrm{LL}}{\\partial a} = -\\Large\\frac{\\sqrt{2}}{\\widehat{\\sigma}} \\normalsize \\sum \\limits_{i = 1}^n \\mathrm{sgn}\\left(x_i - a\\right) = 0$\n",
    "\n",
    "$\\widehat{a} = z_{n, \\frac{1}{2}} = \\begin{cases} X_{\\lfloor \\frac{n}{2} \\rfloor + 1} , np \\in \\mathbb{Z} \\\\ \\\\ \\left[X_{\\left(\\frac{n}{2}\\right)}, X_{\\left(\\frac{n}{2} + 1\\right)}\\right), np \\notin \\mathbb{Z} \\end{cases}$\n",
    "\n",
    "$\\widehat{\\theta} = \\left(\\widehat{a}, \\widehat{\\sigma}^2 \\right)$\n",
    "\n",
    "$\\mathbb{E}_{\\theta} \\widehat{a} = \\mathbb{E}_{\\theta}z_{n, \\frac{1}{2}} = \\mathbb{E} \\frac{X_{\\frac{n}{2}} + X_{\\frac{n}{2} + 1}}{2} = a \\Rightarrow$ несмещённая.\n",
    "\n",
    "$\\mathbb{E}_{\\theta} \\widehat{\\sigma^2} \\neq \\sigma^2 \\Rightarrow$ смещённая оценка.\n"
   ]
  },
  {
   "cell_type": "markdown",
   "metadata": {},
   "source": [
    "\n",
    "ОММ:\n",
    "\n",
    "$\\mathbb{E}x = a$ , $\\mathrm{M}_1 = \\overline{X}$\n",
    "\n",
    "$\\mathbb{E}x^2 = \\sigma^2 + a^2$, $\\mathrm{M}_2 = \\overline{X^2}$\n",
    "\n",
    "$\\begin{equation} \\begin{cases} \\overline{X} = a \\\\ \\overline{X^2} = a^2 + \\sigma^2 \\end{cases}\\end{equation}$\n",
    "\n",
    "$\\widetilde{\\theta} = \\left(\\widetilde{a}, \\widetilde{\\sigma^2}\\right) = \\left(\\overline{X}, S^2\\right)$\n",
    "\n",
    "$\\mathbb{E}_{\\theta} \\widetilde{a} = \\mathbb{E}_{\\theta} \\overline{X} = a \\Rightarrow$ несмещённая оценка.\n",
    "\n",
    "$\\mathbb{E}_{\\theta}\\widetilde{\\sigma^2} = \\mathbb{E}_{\\theta} S^2 = \\frac{n -1}{n} \\sigma^2 \\Rightarrow$ смещённая оценка."
   ]
  },
  {
   "cell_type": "markdown",
   "metadata": {},
   "source": [
    "i.d)  Построить доверительные интервалы уровня значимости $\\alpha_2$ для параметров $(a, \\sigma^2)$\n",
    "\n",
    "$\\mathrm{G}\\left(\\vec{X}, a\\right) = \\sqrt{n - 1} \\cdot \\frac{\\overline{X} - a}{S} \\sim \\mathrm{S}(n - 1)$ - генератор.\n",
    "\n",
    "$x_{\\alpha}: \\mathrm{S}_{n-1}(x_{\\alpha}) = 1 - \\frac{\\alpha}{2}  = 1 - 0.005 = 0.995 $\n",
    "\n",
    "$ x_{\\alpha} = 2.68 $\n",
    "\n",
    "$\\mathbb{P}_{\\theta}\\left(-x_{\\alpha} \\le \\sqrt{n - 1} \\cdot \\frac{\\overline{X} - a}{S} \\le x_{\\alpha}\\right) = 1 - \\alpha$\n",
    "\n",
    "$\\left[-\\frac{x_{\\alpha} \\cdot S}{\\sqrt{n - 1}} + \\overline{X}, \\frac{x_{\\alpha} \\cdot S}{\\sqrt{n - 1}} + \\overline{X}\\right] \\ni a$\n"
   ]
  },
  {
   "cell_type": "code",
   "execution_count": 25,
   "metadata": {},
   "outputs": [
    {
     "name": "stdout",
     "output_type": "stream",
     "text": [
      "Доверительный интервал уровня значимости 0.01 :[ 4.66 ; 5.2 ]\n"
     ]
    }
   ],
   "source": [
    "dif = round((2.68 * s)/(np.sqrt(49)), 2)\n",
    "print(\"Доверительный интервал уровня значимости\", alpha_2, \":[\",round( M-dif, 2), \";\", round(M+dif, 2), \"]\")"
   ]
  },
  {
   "cell_type": "markdown",
   "metadata": {},
   "source": [
    "\n",
    "$\\mathrm{G}\\left(\\vec{X}, \\sigma^2\\right) = \\frac{nS^2}{\\sigma^2} \\sim \\chi^2_{n-1}$ - генератор.\n",
    "\n",
    "$x_{1\\alpha}: \\mathrm{K}_{n-1}(x_{1\\alpha}) = \\frac{\\alpha}{2} = \\frac{0.01}{2} = 0.005 $\n",
    "\n",
    "$x_{1\\alpha} = 27.99$\n",
    "\n",
    "$x_{2\\alpha}: \\mathrm{K}_{n-1}(x_{2\\alpha}) = 0.995 $\n",
    "\n",
    "\n",
    "$x_{2\\alpha} = 79.49$ \n",
    "\n",
    "$\\mathbb{P}_{\\theta}\\left(x_{1\\alpha} \\le \\frac{nS^2}{\\sigma^2} \\le x_{2\\alpha}\\right) = 1 - \\alpha$\n",
    "\n",
    "$\\mathbb{P}_{\\theta}\\left(\\frac{nS^2}{x_{2\\alpha}} \\le \\sigma^2 \\le \\frac{nS^2}{x_{1\\alpha}}\\right) = 1 - \\alpha$\n",
    "\n",
    "$\\left[\\frac{nS^2}{x_{2\\alpha}}, \\frac{nS^2}{x_{1\\alpha}}\\right] \\ni \\sigma^2$\n"
   ]
  },
  {
   "cell_type": "code",
   "execution_count": 26,
   "metadata": {},
   "outputs": [
    {
     "name": "stdout",
     "output_type": "stream",
     "text": [
      "Доверительный интервал уровня значимости 0.01 :[ 0.3 ; 0.86 ]\n"
     ]
    }
   ],
   "source": [
    "dif1 = round((50* s_2)/(27.99), 2)\n",
    "dif2 = round((50* s_2)/(79.99), 2)\n",
    "print(\"Доверительный интервал уровня значимости\", alpha_2, \":[\", dif2 , \";\", dif1, \"]\")"
   ]
  },
  {
   "cell_type": "markdown",
   "metadata": {},
   "source": [
    "i.e) С использованием теоремы Колмогорова построить критерий значимости проверки простой гипотезы согласия распределением Лапласа с параметрами $(a_{0},\\sigma_{0}^{2})$. Проверить гипотезу на уровне значимости $\\alpha_{2}$. Вычислить наибольшее значение уровня значимости, на котором еще нет оснований отвергнуть данную гипотезу."
   ]
  },
  {
   "cell_type": "code",
   "execution_count": 27,
   "metadata": {},
   "outputs": [
    {
     "name": "stdout",
     "output_type": "stream",
     "text": [
      "Мера расхождения:  0.6971063423609885\n",
      "Критическая мера расхождения:  1.6276236307187293\n",
      "Гипотеза принимается\n"
     ]
    }
   ],
   "source": [
    "from scipy.stats import laplace\n",
    "import numpy as np\n",
    "\n",
    "def criterion():\n",
    "    table = []\n",
    "    for x in sorted_data:\n",
    "        val = np.abs(F(x) - laplace.cdf(x, a_0, sigma_0**2))\n",
    "        table.append(val)\n",
    "    D = max(table)\n",
    "    return np.sqrt(len(data))*D\n",
    "\n",
    "def critical(alpha):\n",
    "    return np.sqrt(-0.5 * np.log((alpha) / 2))\n",
    "\n",
    "cr = criterion()\n",
    "crit = critical(alpha_2)\n",
    "print(\"Мера расхождения: \", cr)\n",
    "print(\"Критическая мера расхождения: \", crit)\n",
    "\n",
    "if cr < crit:\n",
    "    print(\"Гипотеза принимается\")\n",
    "else:\n",
    "    print(\"Гипотеза опровергнута\")"
   ]
  },
  {
   "cell_type": "code",
   "execution_count": 28,
   "metadata": {},
   "outputs": [
    {
     "name": "stdout",
     "output_type": "stream",
     "text": [
      "Максимальное значение уровная значимости:  0.757\n"
     ]
    }
   ],
   "source": [
    "alpha_max = alpha_2\n",
    "while (criterion() < critical(alpha_max)):\n",
    "    alpha_max += 0.001\n",
    "print(\"Максимальное значение уровная значимости: \", round(alpha_max, 3))"
   ]
  },
  {
   "cell_type": "markdown",
   "metadata": {},
   "source": [
    "i.f) Используя гистограмму частот, построить критерий значимости $\\mathcal{X^2}$ проверки простой гипотезы согласия с распределением Лапласа с параметрами $(a_0, \\sigma^2_0)$. Проверить гипотезу на уровень значимости $\\alpha_2$. Вычислить наибольшее значение уровня значимости, на котором ещё нет оснований отвергнуть данную гипотезу."
   ]
  },
  {
   "cell_type": "code",
   "execution_count": 29,
   "metadata": {},
   "outputs": [
    {
     "name": "stdout",
     "output_type": "stream",
     "text": [
      "I:  [[-inf, 4.5], [4.5, 5], [5, 5.5], [5.5, inf]]\n",
      "n:  [13, 12, 14, 11]\n",
      "p:  [0.18, 0.32, 0.32, 0.18]\n",
      "np:  [9.01, 15.99, 15.99, 9.01]\n",
      "[1.77, 1.0, 0.25, 0.44]\n",
      "Значение критерия:  3.447070561005075\n"
     ]
    }
   ],
   "source": [
    "#Деление на группы\n",
    "inters = [[-np.inf, 4.5], [4.5, 5], [5, 5.5], [5.5, np.inf]]\n",
    "\n",
    "\n",
    "n = []\n",
    "p = []\n",
    "n_p = []\n",
    "res = []\n",
    "\n",
    "cr = 0\n",
    "for inter in inters:\n",
    "    temp_p= laplace.cdf(inter[1], a_0, sigma_0**2) - laplace.cdf(inter[0], a_0, sigma_0**2)\n",
    "    temp_n= len([x for x in sorted_data if inter[0] <= x < inter[1]])\n",
    "    temp_np = temp_p*len(data)\n",
    "    temp = ((temp_n-temp_np)**2)/(temp_np)\n",
    "    cr += temp\n",
    "    n.append(round(temp_n, 2))\n",
    "    p.append(round(temp_p, 2))\n",
    "    n_p.append(round(temp_np, 2))\n",
    "    res.append(round(temp, 2))\n",
    "\n",
    "print(\"I: \",inters)\n",
    "print(\"n: \", n)\n",
    "print(\"p: \", p)\n",
    "print(\"np: \", n_p)\n",
    "print(res)\n",
    "print(\"Значение критерия: \", cr)"
   ]
  },
  {
   "cell_type": "markdown",
   "metadata": {},
   "source": [
    "Критерий $\\mathcal{X}^2: \\mathcal{X}^2 = \\sum_{i=1}^{4}\\frac{(n_i - np_i)^2}{np_i} = 127.11$\n",
    "\n",
    "$\\mathcal{X}^2_{N-1,\\alpha_2} = \\mathcal{X}^2_{3,0.01} \\simeq 11.345$\n",
    "\n",
    "$\\mathcal{X}^{2} >  \\mathcal{X}^2_{3,0.01} \\Rightarrow$ по критерию Пирсона мы отвергаем гипотезу\n",
    "\n",
    "Наибольшее значение уровня значимости, на котором ещё нет оснований отвергнуть данную гипотезу: $<0.01$"
   ]
  },
  {
   "cell_type": "markdown",
   "metadata": {},
   "source": [
    "i.g) Построить критерий значимости  $\\mathcal{X^{2}}$ проверки сложной гипотезы согласия с распределением Лапласа. Проверить гипотезу по уровню значимости $\\alpha_{2}$. Вычислить наибольшее значение уровня значимости, на котором ещё нет оснований отвергнуть данную гипотезу."
   ]
  },
  {
   "cell_type": "code",
   "execution_count": 30,
   "metadata": {},
   "outputs": [
    {
     "name": "stdout",
     "output_type": "stream",
     "text": [
      "I:  [[-inf, 4.5], [4.5, 5], [5, 5.5], [5.5, inf]]\n",
      "n:  [13, 12, 14, 11]\n",
      "p:  [0.2, 0.36, 0.28, 0.15]\n",
      "np:  [2.65, 4.37, 3.92, 1.67]\n",
      "Значение критерия:  131.62427798098963\n"
     ]
    }
   ],
   "source": [
    "#Деление на группы\n",
    "inters = [[-np.inf, 4.5], [4.5, 5], [5, 5.5], [5.5, np.inf]]\n",
    "\n",
    "\n",
    "n = []\n",
    "p = []\n",
    "n_p = []\n",
    "res = []\n",
    "\n",
    "cr = 0\n",
    "for inter in inters:\n",
    "    temp_p= laplace.cdf(inter[1], M, s_2) - laplace.cdf(inter[0], M, s_2)\n",
    "    temp_n= len([x for x in sorted_data if inter[0] <= x <= inter[1]])\n",
    "    temp_np = temp_p*temp_n\n",
    "    temp = ((temp_n-temp_np)**2)/(temp_np)\n",
    "    cr += temp\n",
    "    n.append(round(temp_n, 2))\n",
    "    p.append(round(temp_p, 2))\n",
    "    n_p.append(round(temp_np, 2))\n",
    "    res.append(round(temp, 2))\n",
    "\n",
    "print(\"I: \",inters)\n",
    "print(\"n: \", n)\n",
    "print(\"p: \", p)\n",
    "print(\"np: \", n_p)\n",
    "print(\"Значение критерия: \", cr)"
   ]
  },
  {
   "cell_type": "markdown",
   "metadata": {},
   "source": [
    "Критерий $\\mathcal{X}^2: \\mathcal{X}^2 = \\sum_{i=1}^{4}\\frac{(n_i - np_i)^2}{np_i} = 131.62$\n",
    "\n",
    "$\\mathcal{X}^2_{N-1,\\alpha_2} = \\mathcal{X}^2_{3,0.01} \\simeq 11.345$\n",
    "\n",
    "$\\mathcal{X}^{2} >  \\mathcal{X}^2_{3,0.01} \\Rightarrow$ по критерию Пирсона мы отвергаем гипотезу\n",
    "\n",
    "Наибольшее значение уровня значимости, на котором ещё нет оснований отвергнуть данную гипотезу: $<0.01$"
   ]
  },
  {
   "cell_type": "markdown",
   "metadata": {},
   "source": [
    "## Выводы\n",
    "\n",
    "В ходе работы были изучены методы математической статистики для решения задач статистического анализа. Были освоены навыки проведения статистических тестов, анализа выборочных данных, построения доверительных интервалов, проверки гипотез. Так же были сформированы навыки реализации методов с помощью прикладных программных пакетов языка Python. "
   ]
  }
 ],
 "metadata": {
  "kernelspec": {
   "display_name": "Python 3 (ipykernel)",
   "language": "python",
   "name": "python3"
  },
  "language_info": {
   "codemirror_mode": {
    "name": "ipython",
    "version": 3
   },
   "file_extension": ".py",
   "mimetype": "text/x-python",
   "name": "python",
   "nbconvert_exporter": "python",
   "pygments_lexer": "ipython3",
   "version": "3.11.5"
  }
 },
 "nbformat": 4,
 "nbformat_minor": 4
}
